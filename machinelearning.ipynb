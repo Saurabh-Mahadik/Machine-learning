{
  "nbformat": 4,
  "nbformat_minor": 0,
  "metadata": {
    "colab": {
      "provenance": [],
      "authorship_tag": "ABX9TyP0sViSMTenhC6ZMzk90d1O",
      "include_colab_link": true
    },
    "kernelspec": {
      "name": "python3",
      "display_name": "Python 3"
    },
    "language_info": {
      "name": "python"
    }
  },
  "cells": [
    {
      "cell_type": "markdown",
      "metadata": {
        "id": "view-in-github",
        "colab_type": "text"
      },
      "source": [
        "<a href=\"https://colab.research.google.com/github/Saurabh-Mahadik/Machine-learning/blob/main/machinelearning.ipynb\" target=\"_parent\"><img src=\"https://colab.research.google.com/assets/colab-badge.svg\" alt=\"Open In Colab\"/></a>"
      ]
    },
    {
      "cell_type": "code",
      "execution_count": 1,
      "metadata": {
        "id": "SCBKmA95SRB2"
      },
      "outputs": [],
      "source": [
        "import pandas as pd"
      ]
    },
    {
      "cell_type": "code",
      "source": [
        "import numpy as np"
      ],
      "metadata": {
        "id": "szlGZInnSa6i"
      },
      "execution_count": 2,
      "outputs": []
    },
    {
      "cell_type": "code",
      "source": [
        "df=pd.read_csv(\"https://raw.githubusercontent.com/YBI-Foundation/Dataset/main/Movies%20Recommendation.csv\")"
      ],
      "metadata": {
        "id": "Dn2sOiHnSh7o"
      },
      "execution_count": 3,
      "outputs": []
    },
    {
      "cell_type": "code",
      "source": [
        "df.head()"
      ],
      "metadata": {
        "colab": {
          "base_uri": "https://localhost:8080/",
          "height": 716
        },
        "id": "A5LL9Jq6Sokq",
        "outputId": "bda29ad5-9c9a-456c-8662-3267db4aaf0a"
      },
      "execution_count": 4,
      "outputs": [
        {
          "output_type": "execute_result",
          "data": {
            "text/plain": [
              "   Movie_ID      Movie_Title                       Movie_Genre Movie_Language  \\\n",
              "0         1       Four Rooms                      Crime Comedy             en   \n",
              "1         2        Star Wars  Adventure Action Science Fiction             en   \n",
              "2         3     Finding Nemo                  Animation Family             en   \n",
              "3         4     Forrest Gump              Comedy Drama Romance             en   \n",
              "4         5  American Beauty                             Drama             en   \n",
              "\n",
              "   Movie_Budget  Movie_Popularity Movie_Release_Date  Movie_Revenue  \\\n",
              "0       4000000         22.876230         09-12-1995        4300000   \n",
              "1      11000000        126.393695         25-05-1977      775398007   \n",
              "2      94000000         85.688789         30-05-2003      940335536   \n",
              "3      55000000        138.133331         06-07-1994      677945399   \n",
              "4      15000000         80.878605         15-09-1999      356296601   \n",
              "\n",
              "   Movie_Runtime  Movie_Vote  ...  \\\n",
              "0           98.0         6.5  ...   \n",
              "1          121.0         8.1  ...   \n",
              "2          100.0         7.6  ...   \n",
              "3          142.0         8.2  ...   \n",
              "4          122.0         7.9  ...   \n",
              "\n",
              "                                      Movie_Homepage  \\\n",
              "0                                                NaN   \n",
              "1  http://www.starwars.com/films/star-wars-episod...   \n",
              "2              http://movies.disney.com/finding-nemo   \n",
              "3                                                NaN   \n",
              "4                      http://www.dreamworks.com/ab/   \n",
              "\n",
              "                                      Movie_Keywords  \\\n",
              "0          hotel new year's eve witch bet hotel room   \n",
              "1        android galaxy hermit death star lightsaber   \n",
              "2  father son relationship harbor underwater fish...   \n",
              "3  vietnam veteran hippie mentally disabled runni...   \n",
              "4  male nudity female nudity adultery midlife cri...   \n",
              "\n",
              "                                      Movie_Overview  \\\n",
              "0  It's Ted the Bellhop's first night on the job....   \n",
              "1  Princess Leia is captured and held hostage by ...   \n",
              "2  Nemo, an adventurous young clownfish, is unexp...   \n",
              "3  A man with a low IQ has accomplished great thi...   \n",
              "4  Lester Burnham, a depressed suburban father in...   \n",
              "\n",
              "                              Movie_Production_House  \\\n",
              "0  [{\"name\": \"Miramax Films\", \"id\": 14}, {\"name\":...   \n",
              "1  [{\"name\": \"Lucasfilm\", \"id\": 1}, {\"name\": \"Twe...   \n",
              "2     [{\"name\": \"Pixar Animation Studios\", \"id\": 3}]   \n",
              "3          [{\"name\": \"Paramount Pictures\", \"id\": 4}]   \n",
              "4  [{\"name\": \"DreamWorks SKG\", \"id\": 27}, {\"name\"...   \n",
              "\n",
              "                            Movie_Production_Country  \\\n",
              "0  [{\"iso_3166_1\": \"US\", \"name\": \"United States o...   \n",
              "1  [{\"iso_3166_1\": \"US\", \"name\": \"United States o...   \n",
              "2  [{\"iso_3166_1\": \"US\", \"name\": \"United States o...   \n",
              "3  [{\"iso_3166_1\": \"US\", \"name\": \"United States o...   \n",
              "4  [{\"iso_3166_1\": \"US\", \"name\": \"United States o...   \n",
              "\n",
              "                      Movie_Spoken_Language  \\\n",
              "0  [{\"iso_639_1\": \"en\", \"name\": \"English\"}]   \n",
              "1  [{\"iso_639_1\": \"en\", \"name\": \"English\"}]   \n",
              "2  [{\"iso_639_1\": \"en\", \"name\": \"English\"}]   \n",
              "3  [{\"iso_639_1\": \"en\", \"name\": \"English\"}]   \n",
              "4  [{\"iso_639_1\": \"en\", \"name\": \"English\"}]   \n",
              "\n",
              "                                       Movie_Tagline  \\\n",
              "0  Twelve outrageous guests. Four scandalous requ...   \n",
              "1       A long time ago in a galaxy far, far away...   \n",
              "2  There are 3.7 trillion fish in the ocean, they...   \n",
              "3  The world will never be the same, once you've ...   \n",
              "4                                       Look closer.   \n",
              "\n",
              "                                          Movie_Cast  \\\n",
              "0  Tim Roth Antonio Banderas Jennifer Beals Madon...   \n",
              "1  Mark Hamill Harrison Ford Carrie Fisher Peter ...   \n",
              "2  Albert Brooks Ellen DeGeneres Alexander Gould ...   \n",
              "3  Tom Hanks Robin Wright Gary Sinise Mykelti Wil...   \n",
              "4  Kevin Spacey Annette Bening Thora Birch Wes Be...   \n",
              "\n",
              "                                          Movie_Crew   Movie_Director  \n",
              "0  [{'name': 'Allison Anders', 'gender': 1, 'depa...   Allison Anders  \n",
              "1  [{'name': 'George Lucas', 'gender': 2, 'depart...     George Lucas  \n",
              "2  [{'name': 'Andrew Stanton', 'gender': 2, 'depa...   Andrew Stanton  \n",
              "3  [{'name': 'Alan Silvestri', 'gender': 2, 'depa...  Robert Zemeckis  \n",
              "4  [{'name': 'Thomas Newman', 'gender': 2, 'depar...       Sam Mendes  \n",
              "\n",
              "[5 rows x 21 columns]"
            ],
            "text/html": [
              "\n",
              "  <div id=\"df-2f31ff92-bbff-42e3-93f5-4cf1fb232543\">\n",
              "    <div class=\"colab-df-container\">\n",
              "      <div>\n",
              "<style scoped>\n",
              "    .dataframe tbody tr th:only-of-type {\n",
              "        vertical-align: middle;\n",
              "    }\n",
              "\n",
              "    .dataframe tbody tr th {\n",
              "        vertical-align: top;\n",
              "    }\n",
              "\n",
              "    .dataframe thead th {\n",
              "        text-align: right;\n",
              "    }\n",
              "</style>\n",
              "<table border=\"1\" class=\"dataframe\">\n",
              "  <thead>\n",
              "    <tr style=\"text-align: right;\">\n",
              "      <th></th>\n",
              "      <th>Movie_ID</th>\n",
              "      <th>Movie_Title</th>\n",
              "      <th>Movie_Genre</th>\n",
              "      <th>Movie_Language</th>\n",
              "      <th>Movie_Budget</th>\n",
              "      <th>Movie_Popularity</th>\n",
              "      <th>Movie_Release_Date</th>\n",
              "      <th>Movie_Revenue</th>\n",
              "      <th>Movie_Runtime</th>\n",
              "      <th>Movie_Vote</th>\n",
              "      <th>...</th>\n",
              "      <th>Movie_Homepage</th>\n",
              "      <th>Movie_Keywords</th>\n",
              "      <th>Movie_Overview</th>\n",
              "      <th>Movie_Production_House</th>\n",
              "      <th>Movie_Production_Country</th>\n",
              "      <th>Movie_Spoken_Language</th>\n",
              "      <th>Movie_Tagline</th>\n",
              "      <th>Movie_Cast</th>\n",
              "      <th>Movie_Crew</th>\n",
              "      <th>Movie_Director</th>\n",
              "    </tr>\n",
              "  </thead>\n",
              "  <tbody>\n",
              "    <tr>\n",
              "      <th>0</th>\n",
              "      <td>1</td>\n",
              "      <td>Four Rooms</td>\n",
              "      <td>Crime Comedy</td>\n",
              "      <td>en</td>\n",
              "      <td>4000000</td>\n",
              "      <td>22.876230</td>\n",
              "      <td>09-12-1995</td>\n",
              "      <td>4300000</td>\n",
              "      <td>98.0</td>\n",
              "      <td>6.5</td>\n",
              "      <td>...</td>\n",
              "      <td>NaN</td>\n",
              "      <td>hotel new year's eve witch bet hotel room</td>\n",
              "      <td>It's Ted the Bellhop's first night on the job....</td>\n",
              "      <td>[{\"name\": \"Miramax Films\", \"id\": 14}, {\"name\":...</td>\n",
              "      <td>[{\"iso_3166_1\": \"US\", \"name\": \"United States o...</td>\n",
              "      <td>[{\"iso_639_1\": \"en\", \"name\": \"English\"}]</td>\n",
              "      <td>Twelve outrageous guests. Four scandalous requ...</td>\n",
              "      <td>Tim Roth Antonio Banderas Jennifer Beals Madon...</td>\n",
              "      <td>[{'name': 'Allison Anders', 'gender': 1, 'depa...</td>\n",
              "      <td>Allison Anders</td>\n",
              "    </tr>\n",
              "    <tr>\n",
              "      <th>1</th>\n",
              "      <td>2</td>\n",
              "      <td>Star Wars</td>\n",
              "      <td>Adventure Action Science Fiction</td>\n",
              "      <td>en</td>\n",
              "      <td>11000000</td>\n",
              "      <td>126.393695</td>\n",
              "      <td>25-05-1977</td>\n",
              "      <td>775398007</td>\n",
              "      <td>121.0</td>\n",
              "      <td>8.1</td>\n",
              "      <td>...</td>\n",
              "      <td>http://www.starwars.com/films/star-wars-episod...</td>\n",
              "      <td>android galaxy hermit death star lightsaber</td>\n",
              "      <td>Princess Leia is captured and held hostage by ...</td>\n",
              "      <td>[{\"name\": \"Lucasfilm\", \"id\": 1}, {\"name\": \"Twe...</td>\n",
              "      <td>[{\"iso_3166_1\": \"US\", \"name\": \"United States o...</td>\n",
              "      <td>[{\"iso_639_1\": \"en\", \"name\": \"English\"}]</td>\n",
              "      <td>A long time ago in a galaxy far, far away...</td>\n",
              "      <td>Mark Hamill Harrison Ford Carrie Fisher Peter ...</td>\n",
              "      <td>[{'name': 'George Lucas', 'gender': 2, 'depart...</td>\n",
              "      <td>George Lucas</td>\n",
              "    </tr>\n",
              "    <tr>\n",
              "      <th>2</th>\n",
              "      <td>3</td>\n",
              "      <td>Finding Nemo</td>\n",
              "      <td>Animation Family</td>\n",
              "      <td>en</td>\n",
              "      <td>94000000</td>\n",
              "      <td>85.688789</td>\n",
              "      <td>30-05-2003</td>\n",
              "      <td>940335536</td>\n",
              "      <td>100.0</td>\n",
              "      <td>7.6</td>\n",
              "      <td>...</td>\n",
              "      <td>http://movies.disney.com/finding-nemo</td>\n",
              "      <td>father son relationship harbor underwater fish...</td>\n",
              "      <td>Nemo, an adventurous young clownfish, is unexp...</td>\n",
              "      <td>[{\"name\": \"Pixar Animation Studios\", \"id\": 3}]</td>\n",
              "      <td>[{\"iso_3166_1\": \"US\", \"name\": \"United States o...</td>\n",
              "      <td>[{\"iso_639_1\": \"en\", \"name\": \"English\"}]</td>\n",
              "      <td>There are 3.7 trillion fish in the ocean, they...</td>\n",
              "      <td>Albert Brooks Ellen DeGeneres Alexander Gould ...</td>\n",
              "      <td>[{'name': 'Andrew Stanton', 'gender': 2, 'depa...</td>\n",
              "      <td>Andrew Stanton</td>\n",
              "    </tr>\n",
              "    <tr>\n",
              "      <th>3</th>\n",
              "      <td>4</td>\n",
              "      <td>Forrest Gump</td>\n",
              "      <td>Comedy Drama Romance</td>\n",
              "      <td>en</td>\n",
              "      <td>55000000</td>\n",
              "      <td>138.133331</td>\n",
              "      <td>06-07-1994</td>\n",
              "      <td>677945399</td>\n",
              "      <td>142.0</td>\n",
              "      <td>8.2</td>\n",
              "      <td>...</td>\n",
              "      <td>NaN</td>\n",
              "      <td>vietnam veteran hippie mentally disabled runni...</td>\n",
              "      <td>A man with a low IQ has accomplished great thi...</td>\n",
              "      <td>[{\"name\": \"Paramount Pictures\", \"id\": 4}]</td>\n",
              "      <td>[{\"iso_3166_1\": \"US\", \"name\": \"United States o...</td>\n",
              "      <td>[{\"iso_639_1\": \"en\", \"name\": \"English\"}]</td>\n",
              "      <td>The world will never be the same, once you've ...</td>\n",
              "      <td>Tom Hanks Robin Wright Gary Sinise Mykelti Wil...</td>\n",
              "      <td>[{'name': 'Alan Silvestri', 'gender': 2, 'depa...</td>\n",
              "      <td>Robert Zemeckis</td>\n",
              "    </tr>\n",
              "    <tr>\n",
              "      <th>4</th>\n",
              "      <td>5</td>\n",
              "      <td>American Beauty</td>\n",
              "      <td>Drama</td>\n",
              "      <td>en</td>\n",
              "      <td>15000000</td>\n",
              "      <td>80.878605</td>\n",
              "      <td>15-09-1999</td>\n",
              "      <td>356296601</td>\n",
              "      <td>122.0</td>\n",
              "      <td>7.9</td>\n",
              "      <td>...</td>\n",
              "      <td>http://www.dreamworks.com/ab/</td>\n",
              "      <td>male nudity female nudity adultery midlife cri...</td>\n",
              "      <td>Lester Burnham, a depressed suburban father in...</td>\n",
              "      <td>[{\"name\": \"DreamWorks SKG\", \"id\": 27}, {\"name\"...</td>\n",
              "      <td>[{\"iso_3166_1\": \"US\", \"name\": \"United States o...</td>\n",
              "      <td>[{\"iso_639_1\": \"en\", \"name\": \"English\"}]</td>\n",
              "      <td>Look closer.</td>\n",
              "      <td>Kevin Spacey Annette Bening Thora Birch Wes Be...</td>\n",
              "      <td>[{'name': 'Thomas Newman', 'gender': 2, 'depar...</td>\n",
              "      <td>Sam Mendes</td>\n",
              "    </tr>\n",
              "  </tbody>\n",
              "</table>\n",
              "<p>5 rows × 21 columns</p>\n",
              "</div>\n",
              "      <button class=\"colab-df-convert\" onclick=\"convertToInteractive('df-2f31ff92-bbff-42e3-93f5-4cf1fb232543')\"\n",
              "              title=\"Convert this dataframe to an interactive table.\"\n",
              "              style=\"display:none;\">\n",
              "        \n",
              "  <svg xmlns=\"http://www.w3.org/2000/svg\" height=\"24px\"viewBox=\"0 0 24 24\"\n",
              "       width=\"24px\">\n",
              "    <path d=\"M0 0h24v24H0V0z\" fill=\"none\"/>\n",
              "    <path d=\"M18.56 5.44l.94 2.06.94-2.06 2.06-.94-2.06-.94-.94-2.06-.94 2.06-2.06.94zm-11 1L8.5 8.5l.94-2.06 2.06-.94-2.06-.94L8.5 2.5l-.94 2.06-2.06.94zm10 10l.94 2.06.94-2.06 2.06-.94-2.06-.94-.94-2.06-.94 2.06-2.06.94z\"/><path d=\"M17.41 7.96l-1.37-1.37c-.4-.4-.92-.59-1.43-.59-.52 0-1.04.2-1.43.59L10.3 9.45l-7.72 7.72c-.78.78-.78 2.05 0 2.83L4 21.41c.39.39.9.59 1.41.59.51 0 1.02-.2 1.41-.59l7.78-7.78 2.81-2.81c.8-.78.8-2.07 0-2.86zM5.41 20L4 18.59l7.72-7.72 1.47 1.35L5.41 20z\"/>\n",
              "  </svg>\n",
              "      </button>\n",
              "      \n",
              "  <style>\n",
              "    .colab-df-container {\n",
              "      display:flex;\n",
              "      flex-wrap:wrap;\n",
              "      gap: 12px;\n",
              "    }\n",
              "\n",
              "    .colab-df-convert {\n",
              "      background-color: #E8F0FE;\n",
              "      border: none;\n",
              "      border-radius: 50%;\n",
              "      cursor: pointer;\n",
              "      display: none;\n",
              "      fill: #1967D2;\n",
              "      height: 32px;\n",
              "      padding: 0 0 0 0;\n",
              "      width: 32px;\n",
              "    }\n",
              "\n",
              "    .colab-df-convert:hover {\n",
              "      background-color: #E2EBFA;\n",
              "      box-shadow: 0px 1px 2px rgba(60, 64, 67, 0.3), 0px 1px 3px 1px rgba(60, 64, 67, 0.15);\n",
              "      fill: #174EA6;\n",
              "    }\n",
              "\n",
              "    [theme=dark] .colab-df-convert {\n",
              "      background-color: #3B4455;\n",
              "      fill: #D2E3FC;\n",
              "    }\n",
              "\n",
              "    [theme=dark] .colab-df-convert:hover {\n",
              "      background-color: #434B5C;\n",
              "      box-shadow: 0px 1px 3px 1px rgba(0, 0, 0, 0.15);\n",
              "      filter: drop-shadow(0px 1px 2px rgba(0, 0, 0, 0.3));\n",
              "      fill: #FFFFFF;\n",
              "    }\n",
              "  </style>\n",
              "\n",
              "      <script>\n",
              "        const buttonEl =\n",
              "          document.querySelector('#df-2f31ff92-bbff-42e3-93f5-4cf1fb232543 button.colab-df-convert');\n",
              "        buttonEl.style.display =\n",
              "          google.colab.kernel.accessAllowed ? 'block' : 'none';\n",
              "\n",
              "        async function convertToInteractive(key) {\n",
              "          const element = document.querySelector('#df-2f31ff92-bbff-42e3-93f5-4cf1fb232543');\n",
              "          const dataTable =\n",
              "            await google.colab.kernel.invokeFunction('convertToInteractive',\n",
              "                                                     [key], {});\n",
              "          if (!dataTable) return;\n",
              "\n",
              "          const docLinkHtml = 'Like what you see? Visit the ' +\n",
              "            '<a target=\"_blank\" href=https://colab.research.google.com/notebooks/data_table.ipynb>data table notebook</a>'\n",
              "            + ' to learn more about interactive tables.';\n",
              "          element.innerHTML = '';\n",
              "          dataTable['output_type'] = 'display_data';\n",
              "          await google.colab.output.renderOutput(dataTable, element);\n",
              "          const docLink = document.createElement('div');\n",
              "          docLink.innerHTML = docLinkHtml;\n",
              "          element.appendChild(docLink);\n",
              "        }\n",
              "      </script>\n",
              "    </div>\n",
              "  </div>\n",
              "  "
            ]
          },
          "metadata": {},
          "execution_count": 4
        }
      ]
    },
    {
      "cell_type": "code",
      "source": [
        "df.info()"
      ],
      "metadata": {
        "colab": {
          "base_uri": "https://localhost:8080/"
        },
        "id": "OoT3VguzTcOO",
        "outputId": "7c1ed01a-fe6d-4cd2-81c3-20c47bf79e72"
      },
      "execution_count": 5,
      "outputs": [
        {
          "output_type": "stream",
          "name": "stdout",
          "text": [
            "<class 'pandas.core.frame.DataFrame'>\n",
            "RangeIndex: 4760 entries, 0 to 4759\n",
            "Data columns (total 21 columns):\n",
            " #   Column                    Non-Null Count  Dtype  \n",
            "---  ------                    --------------  -----  \n",
            " 0   Movie_ID                  4760 non-null   int64  \n",
            " 1   Movie_Title               4760 non-null   object \n",
            " 2   Movie_Genre               4760 non-null   object \n",
            " 3   Movie_Language            4760 non-null   object \n",
            " 4   Movie_Budget              4760 non-null   int64  \n",
            " 5   Movie_Popularity          4760 non-null   float64\n",
            " 6   Movie_Release_Date        4760 non-null   object \n",
            " 7   Movie_Revenue             4760 non-null   int64  \n",
            " 8   Movie_Runtime             4758 non-null   float64\n",
            " 9   Movie_Vote                4760 non-null   float64\n",
            " 10  Movie_Vote_Count          4760 non-null   int64  \n",
            " 11  Movie_Homepage            1699 non-null   object \n",
            " 12  Movie_Keywords            4373 non-null   object \n",
            " 13  Movie_Overview            4757 non-null   object \n",
            " 14  Movie_Production_House    4760 non-null   object \n",
            " 15  Movie_Production_Country  4760 non-null   object \n",
            " 16  Movie_Spoken_Language     4760 non-null   object \n",
            " 17  Movie_Tagline             3942 non-null   object \n",
            " 18  Movie_Cast                4733 non-null   object \n",
            " 19  Movie_Crew                4760 non-null   object \n",
            " 20  Movie_Director            4738 non-null   object \n",
            "dtypes: float64(3), int64(4), object(14)\n",
            "memory usage: 781.1+ KB\n"
          ]
        }
      ]
    },
    {
      "cell_type": "code",
      "source": [
        "df.shape"
      ],
      "metadata": {
        "colab": {
          "base_uri": "https://localhost:8080/"
        },
        "id": "-CUVR4j9TiPP",
        "outputId": "fd0c3b27-332e-49c4-8ec0-3d2eaa99f596"
      },
      "execution_count": 6,
      "outputs": [
        {
          "output_type": "execute_result",
          "data": {
            "text/plain": [
              "(4760, 21)"
            ]
          },
          "metadata": {},
          "execution_count": 6
        }
      ]
    },
    {
      "cell_type": "code",
      "source": [
        "df.columns"
      ],
      "metadata": {
        "colab": {
          "base_uri": "https://localhost:8080/"
        },
        "id": "OhZBzWY4TmuP",
        "outputId": "cf7d8eab-6b70-4529-9362-6a8b234168de"
      },
      "execution_count": 7,
      "outputs": [
        {
          "output_type": "execute_result",
          "data": {
            "text/plain": [
              "Index(['Movie_ID', 'Movie_Title', 'Movie_Genre', 'Movie_Language',\n",
              "       'Movie_Budget', 'Movie_Popularity', 'Movie_Release_Date',\n",
              "       'Movie_Revenue', 'Movie_Runtime', 'Movie_Vote', 'Movie_Vote_Count',\n",
              "       'Movie_Homepage', 'Movie_Keywords', 'Movie_Overview',\n",
              "       'Movie_Production_House', 'Movie_Production_Country',\n",
              "       'Movie_Spoken_Language', 'Movie_Tagline', 'Movie_Cast', 'Movie_Crew',\n",
              "       'Movie_Director'],\n",
              "      dtype='object')"
            ]
          },
          "metadata": {},
          "execution_count": 7
        }
      ]
    },
    {
      "cell_type": "code",
      "source": [
        "feature=df[['Movie_Genre','Movie_Keywords','Movie_Tagline','Movie_Cast','Movie_Director']].fillna('')"
      ],
      "metadata": {
        "id": "ChXl4jj1T2av"
      },
      "execution_count": 8,
      "outputs": []
    },
    {
      "cell_type": "code",
      "source": [
        "feature.shape"
      ],
      "metadata": {
        "colab": {
          "base_uri": "https://localhost:8080/"
        },
        "id": "4UIDqxHCVeEo",
        "outputId": "7b7b42b9-b6aa-46a3-b0df-ee248648d1ce"
      },
      "execution_count": 9,
      "outputs": [
        {
          "output_type": "execute_result",
          "data": {
            "text/plain": [
              "(4760, 5)"
            ]
          },
          "metadata": {},
          "execution_count": 9
        }
      ]
    },
    {
      "cell_type": "code",
      "source": [
        "feature"
      ],
      "metadata": {
        "colab": {
          "base_uri": "https://localhost:8080/",
          "height": 623
        },
        "id": "lK0A-D0FVosN",
        "outputId": "e52b14af-1b77-4b84-ecbe-86ed6ee18850"
      },
      "execution_count": 10,
      "outputs": [
        {
          "output_type": "execute_result",
          "data": {
            "text/plain": [
              "                           Movie_Genre  \\\n",
              "0                         Crime Comedy   \n",
              "1     Adventure Action Science Fiction   \n",
              "2                     Animation Family   \n",
              "3                 Comedy Drama Romance   \n",
              "4                                Drama   \n",
              "...                                ...   \n",
              "4755                            Horror   \n",
              "4756               Comedy Family Drama   \n",
              "4757                    Thriller Drama   \n",
              "4758                            Family   \n",
              "4759                       Documentary   \n",
              "\n",
              "                                         Movie_Keywords  \\\n",
              "0             hotel new year's eve witch bet hotel room   \n",
              "1           android galaxy hermit death star lightsaber   \n",
              "2     father son relationship harbor underwater fish...   \n",
              "3     vietnam veteran hippie mentally disabled runni...   \n",
              "4     male nudity female nudity adultery midlife cri...   \n",
              "...                                                 ...   \n",
              "4755                                                      \n",
              "4756                                                      \n",
              "4757                     christian film sex trafficking   \n",
              "4758                                                      \n",
              "4759  music actors legendary perfomer classic hollyw...   \n",
              "\n",
              "                                          Movie_Tagline  \\\n",
              "0     Twelve outrageous guests. Four scandalous requ...   \n",
              "1          A long time ago in a galaxy far, far away...   \n",
              "2     There are 3.7 trillion fish in the ocean, they...   \n",
              "3     The world will never be the same, once you've ...   \n",
              "4                                          Look closer.   \n",
              "...                                                 ...   \n",
              "4755                The hot spot where Satan's waitin'.   \n",
              "4756           It’s better to stand out than to fit in.   \n",
              "4757           She never knew it could happen to her...   \n",
              "4758                                                      \n",
              "4759                                                      \n",
              "\n",
              "                                             Movie_Cast     Movie_Director  \n",
              "0     Tim Roth Antonio Banderas Jennifer Beals Madon...     Allison Anders  \n",
              "1     Mark Hamill Harrison Ford Carrie Fisher Peter ...       George Lucas  \n",
              "2     Albert Brooks Ellen DeGeneres Alexander Gould ...     Andrew Stanton  \n",
              "3     Tom Hanks Robin Wright Gary Sinise Mykelti Wil...    Robert Zemeckis  \n",
              "4     Kevin Spacey Annette Bening Thora Birch Wes Be...         Sam Mendes  \n",
              "...                                                 ...                ...  \n",
              "4755  Lisa Hart Carroll Michael Des Barres Paul Drak...         Pece Dingo  \n",
              "4756  Roni Akurati Brighton Sharbino Jason Lee Anjul...       Frank Lotito  \n",
              "4757  Nicole Smolen Kim Baldwin Ariana Stephens Brys...       Jaco Booyens  \n",
              "4758                                                                        \n",
              "4759                                    Tony Oppedisano  Simon Napier-Bell  \n",
              "\n",
              "[4760 rows x 5 columns]"
            ],
            "text/html": [
              "\n",
              "  <div id=\"df-45307991-1776-405e-b825-60be98bb6857\">\n",
              "    <div class=\"colab-df-container\">\n",
              "      <div>\n",
              "<style scoped>\n",
              "    .dataframe tbody tr th:only-of-type {\n",
              "        vertical-align: middle;\n",
              "    }\n",
              "\n",
              "    .dataframe tbody tr th {\n",
              "        vertical-align: top;\n",
              "    }\n",
              "\n",
              "    .dataframe thead th {\n",
              "        text-align: right;\n",
              "    }\n",
              "</style>\n",
              "<table border=\"1\" class=\"dataframe\">\n",
              "  <thead>\n",
              "    <tr style=\"text-align: right;\">\n",
              "      <th></th>\n",
              "      <th>Movie_Genre</th>\n",
              "      <th>Movie_Keywords</th>\n",
              "      <th>Movie_Tagline</th>\n",
              "      <th>Movie_Cast</th>\n",
              "      <th>Movie_Director</th>\n",
              "    </tr>\n",
              "  </thead>\n",
              "  <tbody>\n",
              "    <tr>\n",
              "      <th>0</th>\n",
              "      <td>Crime Comedy</td>\n",
              "      <td>hotel new year's eve witch bet hotel room</td>\n",
              "      <td>Twelve outrageous guests. Four scandalous requ...</td>\n",
              "      <td>Tim Roth Antonio Banderas Jennifer Beals Madon...</td>\n",
              "      <td>Allison Anders</td>\n",
              "    </tr>\n",
              "    <tr>\n",
              "      <th>1</th>\n",
              "      <td>Adventure Action Science Fiction</td>\n",
              "      <td>android galaxy hermit death star lightsaber</td>\n",
              "      <td>A long time ago in a galaxy far, far away...</td>\n",
              "      <td>Mark Hamill Harrison Ford Carrie Fisher Peter ...</td>\n",
              "      <td>George Lucas</td>\n",
              "    </tr>\n",
              "    <tr>\n",
              "      <th>2</th>\n",
              "      <td>Animation Family</td>\n",
              "      <td>father son relationship harbor underwater fish...</td>\n",
              "      <td>There are 3.7 trillion fish in the ocean, they...</td>\n",
              "      <td>Albert Brooks Ellen DeGeneres Alexander Gould ...</td>\n",
              "      <td>Andrew Stanton</td>\n",
              "    </tr>\n",
              "    <tr>\n",
              "      <th>3</th>\n",
              "      <td>Comedy Drama Romance</td>\n",
              "      <td>vietnam veteran hippie mentally disabled runni...</td>\n",
              "      <td>The world will never be the same, once you've ...</td>\n",
              "      <td>Tom Hanks Robin Wright Gary Sinise Mykelti Wil...</td>\n",
              "      <td>Robert Zemeckis</td>\n",
              "    </tr>\n",
              "    <tr>\n",
              "      <th>4</th>\n",
              "      <td>Drama</td>\n",
              "      <td>male nudity female nudity adultery midlife cri...</td>\n",
              "      <td>Look closer.</td>\n",
              "      <td>Kevin Spacey Annette Bening Thora Birch Wes Be...</td>\n",
              "      <td>Sam Mendes</td>\n",
              "    </tr>\n",
              "    <tr>\n",
              "      <th>...</th>\n",
              "      <td>...</td>\n",
              "      <td>...</td>\n",
              "      <td>...</td>\n",
              "      <td>...</td>\n",
              "      <td>...</td>\n",
              "    </tr>\n",
              "    <tr>\n",
              "      <th>4755</th>\n",
              "      <td>Horror</td>\n",
              "      <td></td>\n",
              "      <td>The hot spot where Satan's waitin'.</td>\n",
              "      <td>Lisa Hart Carroll Michael Des Barres Paul Drak...</td>\n",
              "      <td>Pece Dingo</td>\n",
              "    </tr>\n",
              "    <tr>\n",
              "      <th>4756</th>\n",
              "      <td>Comedy Family Drama</td>\n",
              "      <td></td>\n",
              "      <td>It’s better to stand out than to fit in.</td>\n",
              "      <td>Roni Akurati Brighton Sharbino Jason Lee Anjul...</td>\n",
              "      <td>Frank Lotito</td>\n",
              "    </tr>\n",
              "    <tr>\n",
              "      <th>4757</th>\n",
              "      <td>Thriller Drama</td>\n",
              "      <td>christian film sex trafficking</td>\n",
              "      <td>She never knew it could happen to her...</td>\n",
              "      <td>Nicole Smolen Kim Baldwin Ariana Stephens Brys...</td>\n",
              "      <td>Jaco Booyens</td>\n",
              "    </tr>\n",
              "    <tr>\n",
              "      <th>4758</th>\n",
              "      <td>Family</td>\n",
              "      <td></td>\n",
              "      <td></td>\n",
              "      <td></td>\n",
              "      <td></td>\n",
              "    </tr>\n",
              "    <tr>\n",
              "      <th>4759</th>\n",
              "      <td>Documentary</td>\n",
              "      <td>music actors legendary perfomer classic hollyw...</td>\n",
              "      <td></td>\n",
              "      <td>Tony Oppedisano</td>\n",
              "      <td>Simon Napier-Bell</td>\n",
              "    </tr>\n",
              "  </tbody>\n",
              "</table>\n",
              "<p>4760 rows × 5 columns</p>\n",
              "</div>\n",
              "      <button class=\"colab-df-convert\" onclick=\"convertToInteractive('df-45307991-1776-405e-b825-60be98bb6857')\"\n",
              "              title=\"Convert this dataframe to an interactive table.\"\n",
              "              style=\"display:none;\">\n",
              "        \n",
              "  <svg xmlns=\"http://www.w3.org/2000/svg\" height=\"24px\"viewBox=\"0 0 24 24\"\n",
              "       width=\"24px\">\n",
              "    <path d=\"M0 0h24v24H0V0z\" fill=\"none\"/>\n",
              "    <path d=\"M18.56 5.44l.94 2.06.94-2.06 2.06-.94-2.06-.94-.94-2.06-.94 2.06-2.06.94zm-11 1L8.5 8.5l.94-2.06 2.06-.94-2.06-.94L8.5 2.5l-.94 2.06-2.06.94zm10 10l.94 2.06.94-2.06 2.06-.94-2.06-.94-.94-2.06-.94 2.06-2.06.94z\"/><path d=\"M17.41 7.96l-1.37-1.37c-.4-.4-.92-.59-1.43-.59-.52 0-1.04.2-1.43.59L10.3 9.45l-7.72 7.72c-.78.78-.78 2.05 0 2.83L4 21.41c.39.39.9.59 1.41.59.51 0 1.02-.2 1.41-.59l7.78-7.78 2.81-2.81c.8-.78.8-2.07 0-2.86zM5.41 20L4 18.59l7.72-7.72 1.47 1.35L5.41 20z\"/>\n",
              "  </svg>\n",
              "      </button>\n",
              "      \n",
              "  <style>\n",
              "    .colab-df-container {\n",
              "      display:flex;\n",
              "      flex-wrap:wrap;\n",
              "      gap: 12px;\n",
              "    }\n",
              "\n",
              "    .colab-df-convert {\n",
              "      background-color: #E8F0FE;\n",
              "      border: none;\n",
              "      border-radius: 50%;\n",
              "      cursor: pointer;\n",
              "      display: none;\n",
              "      fill: #1967D2;\n",
              "      height: 32px;\n",
              "      padding: 0 0 0 0;\n",
              "      width: 32px;\n",
              "    }\n",
              "\n",
              "    .colab-df-convert:hover {\n",
              "      background-color: #E2EBFA;\n",
              "      box-shadow: 0px 1px 2px rgba(60, 64, 67, 0.3), 0px 1px 3px 1px rgba(60, 64, 67, 0.15);\n",
              "      fill: #174EA6;\n",
              "    }\n",
              "\n",
              "    [theme=dark] .colab-df-convert {\n",
              "      background-color: #3B4455;\n",
              "      fill: #D2E3FC;\n",
              "    }\n",
              "\n",
              "    [theme=dark] .colab-df-convert:hover {\n",
              "      background-color: #434B5C;\n",
              "      box-shadow: 0px 1px 3px 1px rgba(0, 0, 0, 0.15);\n",
              "      filter: drop-shadow(0px 1px 2px rgba(0, 0, 0, 0.3));\n",
              "      fill: #FFFFFF;\n",
              "    }\n",
              "  </style>\n",
              "\n",
              "      <script>\n",
              "        const buttonEl =\n",
              "          document.querySelector('#df-45307991-1776-405e-b825-60be98bb6857 button.colab-df-convert');\n",
              "        buttonEl.style.display =\n",
              "          google.colab.kernel.accessAllowed ? 'block' : 'none';\n",
              "\n",
              "        async function convertToInteractive(key) {\n",
              "          const element = document.querySelector('#df-45307991-1776-405e-b825-60be98bb6857');\n",
              "          const dataTable =\n",
              "            await google.colab.kernel.invokeFunction('convertToInteractive',\n",
              "                                                     [key], {});\n",
              "          if (!dataTable) return;\n",
              "\n",
              "          const docLinkHtml = 'Like what you see? Visit the ' +\n",
              "            '<a target=\"_blank\" href=https://colab.research.google.com/notebooks/data_table.ipynb>data table notebook</a>'\n",
              "            + ' to learn more about interactive tables.';\n",
              "          element.innerHTML = '';\n",
              "          dataTable['output_type'] = 'display_data';\n",
              "          await google.colab.output.renderOutput(dataTable, element);\n",
              "          const docLink = document.createElement('div');\n",
              "          docLink.innerHTML = docLinkHtml;\n",
              "          element.appendChild(docLink);\n",
              "        }\n",
              "      </script>\n",
              "    </div>\n",
              "  </div>\n",
              "  "
            ]
          },
          "metadata": {},
          "execution_count": 10
        }
      ]
    },
    {
      "cell_type": "code",
      "source": [
        "X=feature['Movie_Genre']+' '+feature['Movie_Keywords']+' '+feature['Movie_Tagline']+' '+feature['Movie_Cast']+' '+feature['Movie_Director']"
      ],
      "metadata": {
        "id": "uq3LHQaMWFlW"
      },
      "execution_count": 12,
      "outputs": []
    },
    {
      "cell_type": "code",
      "source": [
        "X"
      ],
      "metadata": {
        "colab": {
          "base_uri": "https://localhost:8080/"
        },
        "id": "t4HrfjDpWr4C",
        "outputId": "9e97aa91-0807-4b00-9618-61d9a41937aa"
      },
      "execution_count": 13,
      "outputs": [
        {
          "output_type": "execute_result",
          "data": {
            "text/plain": [
              "0       Crime Comedy hotel new year's eve witch bet ho...\n",
              "1       Adventure Action Science Fiction android galax...\n",
              "2       Animation Family father son relationship harbo...\n",
              "3       Comedy Drama Romance vietnam veteran hippie me...\n",
              "4       Drama male nudity female nudity adultery midli...\n",
              "                              ...                        \n",
              "4755    Horror  The hot spot where Satan's waitin'. Li...\n",
              "4756    Comedy Family Drama  It’s better to stand out ...\n",
              "4757    Thriller Drama christian film sex trafficking ...\n",
              "4758                                           Family    \n",
              "4759    Documentary music actors legendary perfomer cl...\n",
              "Length: 4760, dtype: object"
            ]
          },
          "metadata": {},
          "execution_count": 13
        }
      ]
    },
    {
      "cell_type": "code",
      "source": [
        "X.shape"
      ],
      "metadata": {
        "colab": {
          "base_uri": "https://localhost:8080/"
        },
        "id": "eI0ir79VWzbz",
        "outputId": "312baeb7-e399-45fb-bc47-f1f5130dba7e"
      },
      "execution_count": 14,
      "outputs": [
        {
          "output_type": "execute_result",
          "data": {
            "text/plain": [
              "(4760,)"
            ]
          },
          "metadata": {},
          "execution_count": 14
        }
      ]
    },
    {
      "cell_type": "code",
      "source": [
        "from sklearn.feature_extraction.text import TfidfVectorizer"
      ],
      "metadata": {
        "id": "E5tRvltwW24J"
      },
      "execution_count": 15,
      "outputs": []
    },
    {
      "cell_type": "code",
      "source": [
        "tfv=TfidfVectorizer()"
      ],
      "metadata": {
        "id": "jxb6qlcaYg9u"
      },
      "execution_count": 16,
      "outputs": []
    },
    {
      "cell_type": "code",
      "source": [
        "X=tfv.fit_transform(X)\n"
      ],
      "metadata": {
        "id": "5F6qDXprY4nh"
      },
      "execution_count": 17,
      "outputs": []
    },
    {
      "cell_type": "code",
      "source": [
        "X.shape"
      ],
      "metadata": {
        "colab": {
          "base_uri": "https://localhost:8080/"
        },
        "id": "zaSW3IPYZQ8t",
        "outputId": "cc7bf3fe-2aab-45ac-fa52-baa7f586a0e0"
      },
      "execution_count": 18,
      "outputs": [
        {
          "output_type": "execute_result",
          "data": {
            "text/plain": [
              "(4760, 17258)"
            ]
          },
          "metadata": {},
          "execution_count": 18
        }
      ]
    },
    {
      "cell_type": "code",
      "source": [
        "print(X)"
      ],
      "metadata": {
        "colab": {
          "base_uri": "https://localhost:8080/"
        },
        "id": "aXjUYriCZWo0",
        "outputId": "6bd2cb76-c84d-4f42-8b75-d1aba1ba5097"
      },
      "execution_count": 19,
      "outputs": [
        {
          "output_type": "stream",
          "name": "stdout",
          "text": [
            "  (0, 617)\t0.1633382144407513\n",
            "  (0, 492)\t0.1432591540388685\n",
            "  (0, 15413)\t0.1465525095337543\n",
            "  (0, 9675)\t0.14226057295252661\n",
            "  (0, 9465)\t0.1659841367820977\n",
            "  (0, 1390)\t0.16898383612799558\n",
            "  (0, 7825)\t0.09799561597509843\n",
            "  (0, 1214)\t0.13865857545144072\n",
            "  (0, 729)\t0.13415063359531618\n",
            "  (0, 13093)\t0.1432591540388685\n",
            "  (0, 15355)\t0.10477815972666779\n",
            "  (0, 9048)\t0.0866842116160778\n",
            "  (0, 11161)\t0.06250380151644369\n",
            "  (0, 16773)\t0.17654247479915475\n",
            "  (0, 5612)\t0.08603537588547631\n",
            "  (0, 16735)\t0.10690083751525419\n",
            "  (0, 7904)\t0.13348000542112332\n",
            "  (0, 15219)\t0.09800472886453934\n",
            "  (0, 11242)\t0.07277788238484746\n",
            "  (0, 3878)\t0.11998399582562203\n",
            "  (0, 5499)\t0.11454057510303811\n",
            "  (0, 7071)\t0.19822417598406614\n",
            "  (0, 7454)\t0.14745635785412262\n",
            "  (0, 1495)\t0.19712637387361423\n",
            "  (0, 9206)\t0.15186283580984414\n",
            "  :\t:\n",
            "  (4757, 5455)\t0.12491480594769522\n",
            "  (4757, 2967)\t0.16273475835631626\n",
            "  (4757, 8464)\t0.23522565554066333\n",
            "  (4757, 6938)\t0.17088173678136628\n",
            "  (4757, 8379)\t0.17480603856721913\n",
            "  (4757, 15303)\t0.07654356007668191\n",
            "  (4757, 15384)\t0.09754322497537371\n",
            "  (4757, 7649)\t0.11479421494340192\n",
            "  (4757, 10896)\t0.14546473055066447\n",
            "  (4757, 4494)\t0.05675298448720501\n",
            "  (4758, 5238)\t1.0\n",
            "  (4759, 11264)\t0.33947721804318337\n",
            "  (4759, 11708)\t0.33947721804318337\n",
            "  (4759, 205)\t0.3237911628497312\n",
            "  (4759, 8902)\t0.3040290704566037\n",
            "  (4759, 14062)\t0.3237911628497312\n",
            "  (4759, 3058)\t0.2812896191863103\n",
            "  (4759, 7130)\t0.26419662449963793\n",
            "  (4759, 10761)\t0.3126617295732147\n",
            "  (4759, 4358)\t0.18306542312175342\n",
            "  (4759, 14051)\t0.20084315377640435\n",
            "  (4759, 5690)\t0.19534291014627303\n",
            "  (4759, 15431)\t0.19628653185946862\n",
            "  (4759, 1490)\t0.21197258705292082\n",
            "  (4759, 10666)\t0.15888268987343043\n"
          ]
        }
      ]
    },
    {
      "cell_type": "code",
      "source": [
        "from sklearn.metrics.pairwise import cosine_similarity"
      ],
      "metadata": {
        "id": "3QAVXd3nZ1qx"
      },
      "execution_count": 20,
      "outputs": []
    },
    {
      "cell_type": "code",
      "source": [
        "Similarity_Score=cosine_similarity(X)"
      ],
      "metadata": {
        "id": "AozMZpMHaFfP"
      },
      "execution_count": 21,
      "outputs": []
    },
    {
      "cell_type": "code",
      "source": [
        "Similarity_Score"
      ],
      "metadata": {
        "colab": {
          "base_uri": "https://localhost:8080/"
        },
        "id": "8D4y94upaTFT",
        "outputId": "eb2d256c-5e8d-4df9-cb5d-928890646ad8"
      },
      "execution_count": 22,
      "outputs": [
        {
          "output_type": "execute_result",
          "data": {
            "text/plain": [
              "array([[1.        , 0.01351235, 0.03570468, ..., 0.        , 0.        ,\n",
              "        0.        ],\n",
              "       [0.01351235, 1.        , 0.00806674, ..., 0.        , 0.        ,\n",
              "        0.        ],\n",
              "       [0.03570468, 0.00806674, 1.        , ..., 0.        , 0.08014876,\n",
              "        0.        ],\n",
              "       ...,\n",
              "       [0.        , 0.        , 0.        , ..., 1.        , 0.        ,\n",
              "        0.        ],\n",
              "       [0.        , 0.        , 0.08014876, ..., 0.        , 1.        ,\n",
              "        0.        ],\n",
              "       [0.        , 0.        , 0.        , ..., 0.        , 0.        ,\n",
              "        1.        ]])"
            ]
          },
          "metadata": {},
          "execution_count": 22
        }
      ]
    },
    {
      "cell_type": "code",
      "source": [
        "Similarity_Score.shape"
      ],
      "metadata": {
        "colab": {
          "base_uri": "https://localhost:8080/"
        },
        "id": "IJSTUiRlacYz",
        "outputId": "0d161e22-37cd-42ec-94cc-20fc724eaa89"
      },
      "execution_count": 23,
      "outputs": [
        {
          "output_type": "execute_result",
          "data": {
            "text/plain": [
              "(4760, 4760)"
            ]
          },
          "metadata": {},
          "execution_count": 23
        }
      ]
    },
    {
      "cell_type": "code",
      "source": [
        "favorite_movie_name=input(\"Enter movie name:\")"
      ],
      "metadata": {
        "colab": {
          "base_uri": "https://localhost:8080/"
        },
        "id": "OqirblybapI3",
        "outputId": "416e53f1-2816-4ccc-d814-25efa9b6dde7"
      },
      "execution_count": 67,
      "outputs": [
        {
          "name": "stdout",
          "output_type": "stream",
          "text": [
            "Enter movie name:The terminal\n"
          ]
        }
      ]
    },
    {
      "cell_type": "code",
      "source": [
        "All_Movie_Titlelist=df['Movie_Title'].tolist()"
      ],
      "metadata": {
        "id": "2Y32BMdbbMCc"
      },
      "execution_count": 68,
      "outputs": []
    },
    {
      "cell_type": "code",
      "source": [
        "import difflib"
      ],
      "metadata": {
        "id": "PGUt_bmcbiyF"
      },
      "execution_count": 69,
      "outputs": []
    },
    {
      "cell_type": "code",
      "source": [
        "Movie_Reccomandation=difflib.get_close_matches(favorite_movie_name,All_Movie_Titlelist)"
      ],
      "metadata": {
        "id": "1qTruXggbqO0"
      },
      "execution_count": 70,
      "outputs": []
    },
    {
      "cell_type": "code",
      "source": [
        "print(Movie_Reccomandation)"
      ],
      "metadata": {
        "colab": {
          "base_uri": "https://localhost:8080/"
        },
        "id": "_JFpqTxmcFPe",
        "outputId": "83327ae4-9c18-447b-9517-3ce1e9d9dab9"
      },
      "execution_count": 71,
      "outputs": [
        {
          "output_type": "stream",
          "name": "stdout",
          "text": [
            "['The Terminal', 'The Terminator', 'The International']\n"
          ]
        }
      ]
    },
    {
      "cell_type": "code",
      "source": [
        "close_Match=Movie_Reccomandation[0]\n",
        "print(close_Match)"
      ],
      "metadata": {
        "colab": {
          "base_uri": "https://localhost:8080/"
        },
        "id": "y9NzzM7hcVXG",
        "outputId": "df4f0758-c9c8-4cdf-a986-5914f99f5104"
      },
      "execution_count": 72,
      "outputs": [
        {
          "output_type": "stream",
          "name": "stdout",
          "text": [
            "The Terminal\n"
          ]
        }
      ]
    },
    {
      "cell_type": "code",
      "source": [
        "Index_of_Close_Movie=df[df.Movie_Title==close_Match]['Movie_ID'].values[0]"
      ],
      "metadata": {
        "id": "X6R5HsgIclt1"
      },
      "execution_count": 73,
      "outputs": []
    },
    {
      "cell_type": "code",
      "source": [
        "print(Index_of_Close_Movie)"
      ],
      "metadata": {
        "colab": {
          "base_uri": "https://localhost:8080/"
        },
        "id": "qxMX0TmCdNHA",
        "outputId": "80a7b96a-f187-466e-b187-0a289d4bc360"
      },
      "execution_count": 74,
      "outputs": [
        {
          "output_type": "stream",
          "name": "stdout",
          "text": [
            "254\n"
          ]
        }
      ]
    },
    {
      "cell_type": "code",
      "source": [
        "Reccomondation_Score=list(enumerate(Similarity_Score[Index_of_Close_Movie]))"
      ],
      "metadata": {
        "id": "AdNm7WTYdaV7"
      },
      "execution_count": 75,
      "outputs": []
    },
    {
      "cell_type": "code",
      "source": [
        "len(Reccomondation_Score)"
      ],
      "metadata": {
        "colab": {
          "base_uri": "https://localhost:8080/"
        },
        "id": "KlhcnADld6T4",
        "outputId": "2672eeb4-64d6-4118-fb88-1827536cf0ee"
      },
      "execution_count": 76,
      "outputs": [
        {
          "output_type": "execute_result",
          "data": {
            "text/plain": [
              "4760"
            ]
          },
          "metadata": {},
          "execution_count": 76
        }
      ]
    },
    {
      "cell_type": "code",
      "source": [
        "Sorted=sorted(Reccomondation_Score,key=lambda x:x[1], reverse=True)\n",
        "print(Sorted)"
      ],
      "metadata": {
        "colab": {
          "base_uri": "https://localhost:8080/"
        },
        "id": "-_W_VrLZeLo8",
        "outputId": "f8e63b55-302e-4ba5-e56b-3bc5d96856f4"
      },
      "execution_count": 77,
      "outputs": [
        {
          "output_type": "stream",
          "name": "stdout",
          "text": [
            "[(254, 1.0000000000000004), (1021, 0.19501860199225513), (1421, 0.17152871906846331), (154, 0.17089452358466897), (4334, 0.1698447755039703), (2092, 0.16442950279814758), (1077, 0.15974975129970362), (1089, 0.15020217207596986), (3496, 0.1489754549005167), (3173, 0.1486044844240766), (3781, 0.14738386451476104), (1049, 0.14684697272854325), (1117, 0.14600356170890977), (3606, 0.1409436889099737), (1650, 0.13664937743731606), (395, 0.13610912165733174), (201, 0.13400243291620506), (206, 0.13030867918743633), (4147, 0.12952007379221225), (437, 0.12900174482956364), (843, 0.12859394300113589), (2579, 0.12738087034260917), (1292, 0.1257470525501212), (3082, 0.12458703148243777), (324, 0.12234224098072068), (4106, 0.11984730219823128), (3212, 0.11684323162570232), (3322, 0.11594602184402325), (1578, 0.11331513202047531), (4535, 0.11200943035221596), (544, 0.11152311845619803), (724, 0.10966107720567203), (1002, 0.1065582743694984), (505, 0.1062434538301197), (179, 0.10613830455311118), (852, 0.10599615339193683), (4186, 0.10579558192116148), (1352, 0.1048791571411474), (3072, 0.10470781820017609), (4178, 0.10455343476563587), (2398, 0.10450984924028123), (1009, 0.10427538268315965), (2264, 0.10399911870506535), (1067, 0.10342979629790655), (4470, 0.10317490678433942), (3391, 0.10311591460072445), (4687, 0.1024999408697744), (3771, 0.10208157119405672), (1621, 0.10198918345297472), (3298, 0.0993525269261972), (1830, 0.09909514343448457), (1072, 0.09840845386958932), (88, 0.09821706026178349), (959, 0.09720194858906131), (1774, 0.09689555908046461), (2306, 0.09664367417533692), (2496, 0.09635447491352396), (3511, 0.09534200071849479), (346, 0.09503153350025255), (188, 0.09489492575012011), (4138, 0.09431375983619011), (1759, 0.09362968846504457), (1464, 0.09297105033499149), (177, 0.09259519813090619), (1973, 0.09213868539933426), (832, 0.09160128515865608), (1552, 0.09132520806381643), (1947, 0.09131914778184647), (307, 0.09082566768489674), (3188, 0.09010433866721866), (1744, 0.09003095655472279), (4609, 0.08986835085644121), (3655, 0.08950932561808492), (2625, 0.08923157415137072), (1871, 0.08901321652723745), (1730, 0.08899712445895219), (3076, 0.08833910073390468), (2530, 0.08830975445620949), (4156, 0.08816923378753433), (2545, 0.08703127465573826), (1373, 0.08646991172308742), (4189, 0.08646587218548579), (1176, 0.08608480971036304), (524, 0.08605500914925879), (4523, 0.08588063374048607), (461, 0.08554430710491802), (2612, 0.08464079381726138), (3659, 0.08453221518316455), (3890, 0.08433062362055993), (317, 0.08428751822460052), (971, 0.08426809973832455), (1004, 0.08396483673039044), (551, 0.08381250816632252), (3932, 0.08380136467495175), (4536, 0.08372974598103927), (3053, 0.08336422112027411), (993, 0.08289893136916465), (2009, 0.08163306789256082), (274, 0.08144842393092738), (2286, 0.0811004866336169), (4192, 0.08108341486444649), (3184, 0.08042734695991965), (2107, 0.0804125773689488), (4454, 0.0804098857921744), (1132, 0.08024551150292003), (4647, 0.08013855840911825), (2809, 0.07994814993542962), (3759, 0.07979801703135472), (563, 0.0797979762763237), (3055, 0.07963088813098748), (354, 0.07949743163309111), (1538, 0.07912069998640275), (691, 0.07801211866007857), (334, 0.07796192640888844), (463, 0.0777200866242522), (701, 0.07755415551655666), (4396, 0.07754424426145345), (342, 0.07727447433578512), (1954, 0.07721495049417328), (4363, 0.0770319413659718), (457, 0.07683351937539766), (2859, 0.07627228580868459), (1104, 0.0760329294862317), (1707, 0.07566336831553068), (2848, 0.07562436866714234), (2074, 0.07554287377797687), (1662, 0.07522764621351687), (104, 0.07522452541348307), (389, 0.07511027639724939), (4164, 0.07490403961158852), (1667, 0.0747642280016704), (742, 0.07465492074653637), (4466, 0.07464029935803931), (4467, 0.07404252374984008), (1768, 0.07362414813691481), (1478, 0.07322666836762491), (3094, 0.0732175993079932), (2109, 0.07272259608893841), (2192, 0.07265234485053844), (2117, 0.0724389343427816), (149, 0.07164545788031648), (3866, 0.07141542769607244), (1405, 0.07131147526331795), (872, 0.0711663459920085), (1059, 0.07085669870275496), (3421, 0.07069899255078946), (2544, 0.07063229958774862), (1406, 0.07060008897328707), (2372, 0.07033948593769096), (3307, 0.07027146860017847), (109, 0.07024473811663072), (4313, 0.07003482153878604), (2685, 0.06994883545487329), (1076, 0.06963236877806647), (600, 0.06954317580332359), (3610, 0.06937192273933479), (4389, 0.06904965920820375), (689, 0.0689295586890325), (1325, 0.06885342186179796), (4403, 0.06874231256532544), (831, 0.06869632121987596), (176, 0.06830680918274906), (3385, 0.0683037972335781), (1663, 0.06796437643963725), (3746, 0.06784944699402573), (1726, 0.06781981067225551), (4703, 0.06779796160723389), (2595, 0.06719861251241761), (4410, 0.06657017748066231), (4174, 0.06640219601174067), (150, 0.06633742834262471), (4511, 0.06611773740835086), (936, 0.06607887532319151), (1103, 0.06558286128799583), (3954, 0.06557472478715992), (1073, 0.06552749122599558), (170, 0.0654510563083468), (3660, 0.06509291957928222), (26, 0.06504323563801821), (894, 0.06494975685617654), (641, 0.06487316212496248), (1625, 0.06487228165139718), (242, 0.06483214413639814), (1338, 0.06448684475377689), (700, 0.06444195998472815), (802, 0.06426835625715493), (1953, 0.06421592326654695), (4210, 0.06416171922877861), (3809, 0.06411215229642797), (454, 0.06396804906400422), (2988, 0.06389985381658989), (643, 0.06383535335870262), (4643, 0.06377627947906771), (1102, 0.06367986702478053), (2692, 0.06351452702158421), (1979, 0.06341892418023994), (2134, 0.0632930844383123), (2121, 0.06328614582081114), (2356, 0.06325615989960644), (1858, 0.06325590298068957), (849, 0.06321509800310553), (2271, 0.06306036872843435), (444, 0.06304846140081996), (1984, 0.06283241660059072), (1532, 0.06273490474278036), (1647, 0.06247405530109961), (2741, 0.06240567342410376), (2158, 0.06215954557238968), (138, 0.06204285975582185), (3111, 0.06203348671816837), (3376, 0.06160530609029016), (3584, 0.06151263403828529), (662, 0.061331687888669245), (1202, 0.061193700689935515), (1557, 0.06111432052317954), (1510, 0.06107237613894981), (1284, 0.0609134657866016), (3902, 0.06088863645904183), (1561, 0.06080175138681084), (1912, 0.060562731067427586), (175, 0.06046697995694237), (4378, 0.06017480760764556), (656, 0.06017369131483358), (473, 0.06014134894445604), (3084, 0.06001505337575809), (2955, 0.05998003015677874), (2126, 0.05985280916319365), (3777, 0.05972919921576507), (1716, 0.0596992384808002), (483, 0.05968774398748111), (1711, 0.059630151839905624), (3861, 0.05945076068613363), (48, 0.059426585895394846), (285, 0.05938133068780213), (929, 0.05911721715871194), (1224, 0.059011342009483714), (1275, 0.05901008668454505), (3561, 0.05895958248765474), (4582, 0.05895199900761328), (2352, 0.05890457837910354), (1983, 0.05887645543546486), (2450, 0.05880445157700481), (522, 0.05872294987724983), (1222, 0.0585620616334479), (2321, 0.05808064272726494), (3297, 0.05802008729534028), (4533, 0.05789194058913113), (1856, 0.057725196536504424), (2867, 0.0576518432965085), (3779, 0.057419538144632264), (1935, 0.057418389401855216), (3066, 0.057386310083489475), (2316, 0.05710382630816791), (286, 0.05704428496303187), (3670, 0.057014672623629456), (2342, 0.05700265383725355), (4002, 0.05697142905460235), (4289, 0.05674263111279103), (172, 0.05671063262401942), (1852, 0.05648193492824522), (479, 0.056464627148783045), (1040, 0.05634712780740363), (53, 0.05624477980295596), (3753, 0.056142014696616394), (2769, 0.05612587900248728), (611, 0.055987625712977565), (1167, 0.05594689818951089), (805, 0.05594173195371598), (4280, 0.055762174911358334), (1965, 0.055742056154640576), (3089, 0.055692307067454615), (607, 0.055591145085884905), (1047, 0.055545217793284585), (271, 0.05528924993969764), (369, 0.05528485160848787), (2917, 0.0552509865505731), (684, 0.055152731043801285), (3592, 0.055117255312255684), (2789, 0.0549355428741463), (441, 0.054933395027633995), (2403, 0.05480529437564901), (2808, 0.05477786229599298), (311, 0.05466458982114246), (1296, 0.0546607834420214), (2268, 0.05464900382377807), (2361, 0.054575497977551415), (4663, 0.054552151333101886), (4516, 0.05452684627333994), (134, 0.05451583487610119), (3, 0.05446547036386104), (313, 0.05443177447949291), (1924, 0.054324394507732174), (739, 0.05426010309609418), (4544, 0.05425714502770137), (4722, 0.054192520772381465), (4590, 0.05417019844519793), (4465, 0.05406915611135563), (2959, 0.05403152389201292), (3611, 0.054028721746572674), (2051, 0.054025695476593694), (4472, 0.053882857208736916), (2571, 0.05385463175768164), (4191, 0.05376487757460566), (1257, 0.053748710984208005), (3464, 0.05374818771420653), (4411, 0.05360787931740535), (3357, 0.05343689360679278), (1646, 0.05317700363707045), (1444, 0.05310313823449899), (729, 0.05302483335933028), (3071, 0.053000945603799005), (3877, 0.05294305690606535), (2351, 0.052915460790008244), (1062, 0.0528917197798484), (1481, 0.05284861514416302), (432, 0.052706491397703274), (4479, 0.052668256929163694), (2239, 0.05265181181690412), (4274, 0.05251924587459068), (399, 0.05243229078181098), (1705, 0.052204329962858204), (3690, 0.05219594330394103), (4153, 0.05219481978406766), (829, 0.05193135024184842), (4101, 0.05189957748840675), (4031, 0.05182331543350788), (2224, 0.05181357612477323), (4298, 0.05172432007698228), (3531, 0.051709021340455345), (998, 0.05166251311872762), (332, 0.05162283952431439), (124, 0.05161953188478911), (665, 0.05156120203355744), (4216, 0.05152106487661946), (3449, 0.05138350689552926), (728, 0.05128697848395646), (4281, 0.051237478603140034), (1848, 0.051188305940984856), (4371, 0.05099157637749019), (3621, 0.05073240992860828), (3639, 0.05064475695019044), (1310, 0.05054234893584788), (4471, 0.05042477427114962), (2418, 0.050403848633270756), (4575, 0.05031235964953639), (2649, 0.05026376874021035), (4460, 0.05025155835793975), (2160, 0.05021697497230668), (949, 0.05014943063692995), (3528, 0.05011474428324133), (4507, 0.050104042511978766), (725, 0.04996567375347938), (1643, 0.04992184377838236), (2551, 0.04992086973030168), (1188, 0.04990972231280296), (2831, 0.04987687979330366), (1065, 0.04985350406687092), (1192, 0.04982052967197642), (2088, 0.04981959669628805), (908, 0.04980359550635527), (1776, 0.04978614982253172), (1790, 0.04975083173645482), (250, 0.04960709094985893), (1069, 0.049600380458066404), (2294, 0.0494810253303334), (3118, 0.04947324414564221), (2650, 0.0494042884456678), (2210, 0.04934015620827245), (1456, 0.04933971978292653), (4205, 0.0493181197351518), (1959, 0.04929670834003819), (4715, 0.0491832746515484), (2231, 0.04898971688047502), (2043, 0.04887891095775847), (865, 0.04882539833551569), (3016, 0.048815567150712946), (3701, 0.04874872894911521), (2007, 0.04871110836420253), (922, 0.0486527597424083), (1346, 0.04850873538430165), (4338, 0.04842141619300632), (3792, 0.048357125873171494), (2898, 0.04831071517264713), (3534, 0.04825072259590558), (1019, 0.048177653394296624), (3516, 0.04812680888296401), (1394, 0.048096288530909075), (514, 0.048076109145069684), (3335, 0.04804452759922495), (2371, 0.04802338960481263), (2915, 0.04799177098725663), (679, 0.047949686928344226), (3977, 0.04787996660286207), (1131, 0.047709788222049306), (3909, 0.047645069142211165), (2481, 0.047630933086265884), (3478, 0.047551207896390696), (3097, 0.04753590993611242), (261, 0.04752612986854404), (3558, 0.047501457878215705), (2588, 0.04748490084463256), (81, 0.0474815819035039), (4320, 0.04743033746737798), (499, 0.04719273307244615), (2948, 0.04711798418442764), (3435, 0.047088920840518377), (913, 0.04702430241284922), (1055, 0.04686549275865073), (1013, 0.04684267040909556), (2228, 0.04682865688577961), (3747, 0.04682277482641235), (2436, 0.046777663471627526), (828, 0.04676141554983382), (727, 0.04671804779318558), (3888, 0.046576971791617926), (2802, 0.04649654695485407), (4299, 0.04641991372198878), (4309, 0.046411279964088184), (4421, 0.04640217622968834), (826, 0.046385207277131614), (55, 0.04632218243004794), (412, 0.04622879429981648), (660, 0.04622443596380797), (3765, 0.04619034411224384), (4183, 0.04611995810707616), (4089, 0.04606446976119119), (1195, 0.04595333496290176), (3648, 0.04586938737012942), (262, 0.04582558703889578), (3341, 0.045750886563631486), (3352, 0.045727831193894716), (4097, 0.04570307256559544), (146, 0.045685330513819795), (2131, 0.04567947594194007), (3831, 0.04562460529390656), (2985, 0.04549627277368453), (2737, 0.045480317484033174), (3840, 0.045446047510412875), (1229, 0.04542644703418554), (4085, 0.045257923204184064), (2193, 0.045232664702566094), (2001, 0.04522691847296741), (442, 0.0452268956303586), (4213, 0.045215934700478716), (3666, 0.04515961437773294), (56, 0.045136192794215726), (2939, 0.04506347657247496), (3467, 0.044898638311876356), (3008, 0.044880890266394136), (1998, 0.04486686948359082), (4300, 0.044678476924669426), (683, 0.04464684367555122), (1115, 0.04440458789631384), (2820, 0.04437917002527235), (3232, 0.044340511332815066), (730, 0.04426732640315259), (4342, 0.04416519242524062), (4482, 0.04396934755408606), (2513, 0.04386533164299754), (3656, 0.04382290747851843), (3428, 0.043808621554545124), (233, 0.04375408885673013), (1028, 0.04375328263495951), (4348, 0.04372907133144489), (4264, 0.043686748437828514), (117, 0.04366009643090931), (983, 0.04354087706429234), (1651, 0.043491694458983154), (1588, 0.04347242507730929), (3835, 0.043449946014000554), (1234, 0.04342462406091219), (4563, 0.04323354892685399), (4588, 0.04293403074886403), (4350, 0.04285986369408481), (3336, 0.0427997213451717), (1598, 0.04275038716261308), (4314, 0.04274652186695455), (2925, 0.042739747150743086), (2100, 0.04262888771597883), (3968, 0.04242752312206254), (1923, 0.04242182226970932), (2525, 0.04232987178673812), (4567, 0.0422931340135675), (620, 0.04221347247674213), (3741, 0.0421994711466454), (1190, 0.042147977696138185), (1530, 0.04203263600924149), (4022, 0.04202061640124777), (808, 0.041920198194976784), (1815, 0.04188361932976831), (2604, 0.04169258281695172), (4669, 0.04160208471208669), (2732, 0.04154068887086515), (4568, 0.04143664022553513), (245, 0.04131078093442603), (1736, 0.041247238230976646), (1606, 0.04124045885738623), (3426, 0.041239375215577065), (2582, 0.04121749985320569), (4406, 0.04119092823213569), (3635, 0.04112897128382723), (165, 0.041106088393184775), (216, 0.041000897820141144), (3839, 0.04080626624825581), (4382, 0.04076867214144484), (4119, 0.04075734924035385), (145, 0.0406654745250956), (4554, 0.04056946689722316), (2835, 0.04051294832668202), (1592, 0.040475805929307884), (3443, 0.04047225475552113), (4033, 0.04029712504309663), (2446, 0.04022345289206839), (108, 0.04022040635781436), (3990, 0.04017725813123049), (2850, 0.04015517788472692), (142, 0.04015035633079693), (3040, 0.03992040899297668), (1239, 0.03990828717774522), (1308, 0.039903374607009205), (988, 0.03989660460295036), (4586, 0.039892724310837575), (3091, 0.039800953919230636), (247, 0.039720722252053975), (3612, 0.039563171609123676), (2908, 0.03952084594809053), (2250, 0.03946268302907438), (3282, 0.03945120057646678), (1377, 0.039421927898461134), (4362, 0.03933522463633751), (1771, 0.03926473879676848), (1358, 0.03919637507244837), (2668, 0.0391898987378685), (2637, 0.03900995055549192), (2252, 0.03898388994555964), (277, 0.038968575266896344), (4070, 0.03894951253838074), (2346, 0.03880471266659181), (1107, 0.03873038145358128), (1925, 0.038700097365973726), (1624, 0.03869459185188379), (3963, 0.03865084156989086), (3525, 0.03854113193675065), (4473, 0.03854033895913351), (2891, 0.03853059173272793), (4114, 0.03847514448627745), (2196, 0.0384040608388371), (3098, 0.03835916865701084), (121, 0.038348522044066816), (2423, 0.038337552440685346), (1746, 0.03829513834639588), (185, 0.038184856504566954), (2448, 0.03815672663807569), (976, 0.03813558664296337), (111, 0.03809409839527332), (3638, 0.038087561536034334), (2235, 0.037999329832695924), (1579, 0.0379768404654088), (3159, 0.03780887258567843), (1696, 0.0377584975390652), (2857, 0.03770918570501241), (670, 0.03767130458658732), (1982, 0.03758361909274238), (4727, 0.037575856637814806), (3466, 0.03755317928576353), (1139, 0.037407671796756616), (4510, 0.03712592977263392), (2548, 0.03704150076699662), (3206, 0.03696107965571896), (91, 0.03694699603367175), (994, 0.03690583964637642), (2598, 0.03668216962063293), (3876, 0.03661374459018593), (3120, 0.036597097639382986), (1764, 0.03654607596010116), (2434, 0.03652066389051146), (1714, 0.03636149376681858), (2780, 0.036217211407770275), (4710, 0.03613294748263932), (2884, 0.03603852552683438), (1675, 0.03603291903611681), (569, 0.03601279731146757), (2174, 0.035997007749285936), (4093, 0.035780108016963796), (2460, 0.035749793716818884), (985, 0.03571207459381559), (1585, 0.035681609503175685), (4295, 0.035607472042216606), (3313, 0.035500600255912), (756, 0.03536529573072328), (2417, 0.035323979852493054), (4398, 0.03529997249542527), (3941, 0.035203192813811214), (1074, 0.035085698437639), (3882, 0.03501152890906563), (3582, 0.034855728582371355), (721, 0.03485561103081714), (1544, 0.034855603441029386), (43, 0.034794579503834036), (3047, 0.03478946431442894), (4464, 0.03477372616496557), (3856, 0.03469372011305191), (4539, 0.03455441351327901), (2914, 0.03454879133273106), (1260, 0.034480062725303816), (515, 0.034430655267617766), (1232, 0.03439258042900917), (3745, 0.034369324000336224), (1738, 0.03434833062442277), (931, 0.03432309145249707), (227, 0.0342284234982873), (2390, 0.03418896944672668), (3560, 0.03418042004975132), (623, 0.03401590905342779), (4721, 0.03401446745871376), (2906, 0.034012802355295635), (1845, 0.033971855143043884), (2523, 0.03396590302073686), (2515, 0.03393032805772506), (875, 0.033925355189207224), (4197, 0.03391328445066563), (1966, 0.0338869394389101), (2070, 0.03381114491304332), (3269, 0.03376977096624609), (455, 0.033742354046515606), (3959, 0.0336445997356493), (1010, 0.03363774691878623), (448, 0.033597679249279956), (4380, 0.03356729196131428), (1581, 0.0335242324948201), (3003, 0.033514438660738444), (4245, 0.0335078271550467), (3241, 0.03341312245977455), (1733, 0.03335500971771404), (1071, 0.033315342611839216), (3772, 0.03324899177398254), (3370, 0.033128244507545326), (2777, 0.03292562329154867), (3680, 0.03291532867617533), (1567, 0.03289146650871411), (3393, 0.03276238258351827), (4368, 0.032759452480879345), (2219, 0.03271671099292171), (1941, 0.032710430386367284), (3899, 0.03259745696917468), (190, 0.03259619085073163), (1140, 0.03257213778747308), (2949, 0.032503778335459824), (74, 0.032489884654060656), (3857, 0.03245131487491437), (2553, 0.03243172783196637), (2893, 0.03241674449850171), (4095, 0.032416497170337816), (3980, 0.03241178171055162), (217, 0.03238752312582241), (1364, 0.03238340874690568), (2535, 0.03238273378172102), (3360, 0.03238027904816059), (2610, 0.03228468458080597), (2176, 0.03225333229173481), (1489, 0.032120695763272554), (4599, 0.03211768323855988), (1506, 0.0321095198439709), (236, 0.03205819341110505), (4602, 0.03205595768533366), (692, 0.03196163363981995), (309, 0.031952226254415704), (711, 0.03195140804303234), (4140, 0.03192311401800814), (23, 0.03185422136222475), (3653, 0.031791136596724986), (1937, 0.03179060279859987), (3844, 0.031787282682679205), (4468, 0.03172399533750651), (198, 0.031643060336901924), (4199, 0.03146887304844825), (3870, 0.03141266768930027), (364, 0.03136076557491234), (3240, 0.03134443673277242), (3137, 0.03134134299972376), (3117, 0.0313306114112577), (871, 0.031256655582749704), (380, 0.031249217847043567), (3251, 0.031156592590606477), (78, 0.03115289187284256), (3950, 0.031124875267900223), (4034, 0.031063442361697426), (2873, 0.031061957060054275), (494, 0.03105205327840513), (1816, 0.03096125317409819), (2792, 0.03095396067309162), (2201, 0.03094596170316481), (4646, 0.030916731541720185), (4677, 0.03087672647551422), (4049, 0.030873676179189315), (4028, 0.030831355735400693), (839, 0.030732666127346864), (2746, 0.03067534626878931), (182, 0.030663227811761465), (4354, 0.030564222675553043), (3099, 0.030550632051155192), (2852, 0.03052002904608086), (1163, 0.030495072717957785), (4629, 0.030479025774110505), (79, 0.03047245261972747), (4419, 0.030458881248557584), (415, 0.03042848799483568), (3505, 0.030399038006495918), (2115, 0.030392481382409284), (767, 0.030381550279126163), (3778, 0.03034840650002924), (128, 0.03033974582473116), (2528, 0.03031777775857937), (1298, 0.030252119794610496), (2645, 0.030247850219598593), (2234, 0.030224352208952567), (4052, 0.030211623711412918), (774, 0.030160031159149336), (3949, 0.030138184052450334), (846, 0.030132878346263194), (1969, 0.030127804779201094), (2863, 0.030125094805388185), (3766, 0.029984768891074855), (1534, 0.0299817196925527), (2930, 0.029907506839027417), (4083, 0.02984376655290367), (86, 0.029832450855060186), (969, 0.029821402120207743), (433, 0.029818388985601497), (1882, 0.029805742585067973), (4283, 0.029782297495938574), (2474, 0.029746233499331504), (915, 0.029743474121526628), (2589, 0.029701958082595133), (312, 0.0296315167903969), (4255, 0.029618039122683022), (11, 0.029601597909798577), (203, 0.02953915368375988), (2133, 0.02952852148795692), (4501, 0.029518372589493885), (2800, 0.029495008582302442), (4137, 0.029485299845773763), (3730, 0.029460942335592127), (4743, 0.029436962974533493), (3662, 0.029413160464199818), (2169, 0.029405979991609807), (3473, 0.029404496400670752), (3658, 0.029392485794348115), (1640, 0.029379412774946656), (251, 0.02925229372373794), (2182, 0.02920611975585482), (3551, 0.029195988414200045), (2779, 0.029162498982044247), (854, 0.029154458852874637), (2664, 0.02914267098072442), (2473, 0.02909383089159774), (2229, 0.029073373711870028), (1926, 0.02904048176546333), (4135, 0.02899112330242741), (3691, 0.028946662894807688), (1685, 0.02892162902588595), (2892, 0.028876564629352442), (3265, 0.028854966083106587), (3261, 0.02885133230447997), (3724, 0.028842521885078774), (205, 0.028803487683084283), (547, 0.028774737257112167), (255, 0.02876309092559799), (1725, 0.02874147939439388), (1223, 0.028696230154555507), (1677, 0.02867903988155757), (3883, 0.028661009321025006), (1488, 0.028657536755249277), (3557, 0.02865108278284187), (1449, 0.028636599116819445), (2217, 0.028610960695790704), (856, 0.02858838111014559), (2226, 0.0285691962944735), (591, 0.028550810629559664), (1835, 0.02854096631672784), (173, 0.028531176856300446), (2259, 0.028411290860586733), (1148, 0.028389007931641067), (1799, 0.028354470620291793), (516, 0.02835384794531209), (895, 0.028341675405718286), (1634, 0.028331851969199923), (3373, 0.028299864736643636), (533, 0.028280448383604988), (4061, 0.028278133536993263), (622, 0.028268672724946715), (744, 0.028268634369139702), (2338, 0.028205693712323586), (4152, 0.028190068358721735), (3190, 0.02809807158002523), (303, 0.02809286938211303), (3487, 0.028091298575791537), (368, 0.028069381805453084), (708, 0.02806467095667491), (119, 0.02804512867448204), (1778, 0.027987118020776827), (4291, 0.027960474873089922), (4678, 0.02795202569445067), (1014, 0.02794063005516502), (4155, 0.027912365054485314), (2309, 0.027909784009463687), (3207, 0.027875693863836967), (579, 0.027843869092890435), (1318, 0.027842262186877555), (2592, 0.02784158819906793), (863, 0.027807007070982877), (2040, 0.02777796590124493), (501, 0.027756531676685785), (2575, 0.027725206623929657), (3846, 0.02770477246772314), (814, 0.027684485634999895), (2298, 0.02763003507244464), (1251, 0.02762543043699652), (3641, 0.027607436108197984), (948, 0.027605810830150082), (3979, 0.02760215124770385), (4504, 0.027589461028587763), (1092, 0.027586352687945615), (1447, 0.02758603088915839), (3132, 0.02756353930777148), (3520, 0.027536775825310365), (258, 0.027516246191270247), (3002, 0.027489198859713276), (3871, 0.02747895281018375), (896, 0.0274677593601676), (2037, 0.02740162241400981), (3327, 0.027401317663483186), (4695, 0.027398888080246382), (4659, 0.027373465828024305), (3377, 0.027363919322620035), (2709, 0.02734165581303531), (2141, 0.02732262390153525), (2487, 0.02730330439385089), (1980, 0.02728516740992411), (3642, 0.027265667253352038), (2790, 0.02721989625095722), (3795, 0.02721212625900494), (3694, 0.027211366702977663), (4591, 0.027173506908852712), (3134, 0.027134427713535025), (65, 0.02712050299468824), (753, 0.027107416805186094), (1278, 0.027085131766007034), (4453, 0.027074333641398322), (885, 0.02706060786560368), (3596, 0.027053291557751397), (1333, 0.027050634652197262), (3457, 0.02704321647478334), (1841, 0.027039874963715224), (2245, 0.027013391662450235), (2047, 0.026995001059259754), (2254, 0.026981698292062914), (1477, 0.026948674777151602), (1837, 0.026934529884433213), (1086, 0.026907479545687066), (1253, 0.02682189924723779), (3463, 0.026818498824038584), (886, 0.02679923983504315), (4627, 0.026787827657679442), (1507, 0.02677883509933454), (1490, 0.026752553557933104), (4435, 0.026730598816609632), (2763, 0.026690224821879126), (1097, 0.02667674462583997), (1417, 0.026641160708028945), (3326, 0.026636147040322793), (3387, 0.026631581596642636), (4294, 0.026627005316035887), (4146, 0.026619549218402826), (1005, 0.026605034812175084), (1111, 0.026566944597925586), (118, 0.026563520698827055), (370, 0.02656058758184829), (1108, 0.026526727598014933), (751, 0.026463048629562384), (3812, 0.026461344018367604), (3211, 0.026449835401962947), (2512, 0.026412781755410772), (2377, 0.026381692313193178), (89, 0.02636650651637803), (840, 0.0263355259372411), (531, 0.026329900012306832), (845, 0.026328702369882155), (4242, 0.026312118024778067), (919, 0.026308964548097714), (4149, 0.026283922895338215), (534, 0.026275479897048717), (282, 0.02620879032720503), (468, 0.026201126384136575), (2170, 0.02618445187111852), (3852, 0.026180934167521167), (1512, 0.02616732141284236), (4638, 0.02607588742327746), (2876, 0.02607350653016577), (2813, 0.02605341899440007), (3982, 0.025991457400812806), (3927, 0.02598498844648094), (2615, 0.02598035638472631), (1691, 0.02595667826529727), (3154, 0.02592279196225643), (4451, 0.02587422510643197), (4188, 0.025831512951085413), (171, 0.025820623721169677), (3667, 0.025817074960906652), (2004, 0.025815975573011934), (1334, 0.025811453664324607), (4442, 0.025804477904847543), (3768, 0.02579348995387868), (4558, 0.02578446695303351), (4702, 0.02575837469031953), (1482, 0.02572244782937252), (812, 0.025720008431767413), (2635, 0.025689649900597876), (1466, 0.025565104307141016), (2318, 0.025517322850125305), (52, 0.025436969717133752), (2652, 0.025424774870280005), (90, 0.025422656514229543), (1706, 0.02537807545311124), (848, 0.025362845939672824), (1758, 0.02535874559129846), (3056, 0.025323097169769476), (1430, 0.02529306339890234), (2284, 0.025279457479866208), (710, 0.025270260383435335), (3523, 0.025263553971408725), (3286, 0.025240911612529324), (2297, 0.02519907073626854), (3586, 0.02516636862164122), (3114, 0.025146581074509556), (226, 0.025145575951614655), (1523, 0.025141039732010116), (939, 0.025092943946981288), (2240, 0.02508534772526806), (2185, 0.025083592772901432), (4525, 0.025043989853846017), (4564, 0.025032436826372198), (3738, 0.024997696682456213), (3786, 0.024944844528227997), (1384, 0.02492006831912847), (4739, 0.024877181606427955), (995, 0.024849973628511463), (1892, 0.024822098415370163), (553, 0.024800922182812508), (746, 0.024771102809653365), (609, 0.02477014106181165), (4112, 0.02476010137179923), (1100, 0.024732806893191954), (1933, 0.024726262592378225), (3875, 0.024726049866263342), (4272, 0.024663969978267627), (3657, 0.02465588865071205), (96, 0.024622363625735156), (4071, 0.02459866997447644), (3450, 0.024598071426093167), (196, 0.024540646395710207), (1934, 0.02452578351387532), (1408, 0.02449337433962088), (3133, 0.024436438867711616), (549, 0.02442693197887094), (521, 0.024422901202733247), (3018, 0.02442109737581512), (1813, 0.02441584910789163), (3276, 0.024399470387963952), (4733, 0.024378395448993725), (676, 0.024376322592286937), (4015, 0.02437329565418188), (1767, 0.024367695530758262), (4379, 0.024351832530663697), (2205, 0.024335235440676978), (1855, 0.024316975176785435), (565, 0.024282290533665492), (19, 0.02426440395499347), (3956, 0.024263856963645775), (1649, 0.02422914261732022), (918, 0.024200007572106594), (2472, 0.024193118087826936), (2442, 0.024178682707561135), (3199, 0.02417566998081557), (3519, 0.024143996040482476), (1135, 0.02412533165297997), (2654, 0.023993861630709608), (1090, 0.023976618244839588), (3151, 0.02395622844199856), (1803, 0.023949455324146416), (1066, 0.02394421562437378), (2441, 0.023926288832558283), (1162, 0.02391951941694183), (2666, 0.023899174775859906), (3042, 0.0238785965854922), (904, 0.023877713660065112), (4684, 0.0238636080643092), (2444, 0.023853102684705765), (3609, 0.023851893290798613), (573, 0.023838240238451755), (2995, 0.023834998778607803), (375, 0.023833925204925534), (979, 0.023831059642960017), (1563, 0.023825292919738308), (2433, 0.023820597627052544), (4748, 0.023788752343240425), (2597, 0.02378585107262345), (492, 0.02368318474202506), (73, 0.023677165152016545), (4118, 0.02364304148417379), (1682, 0.023600233770149158), (113, 0.023506813049819802), (1323, 0.02348148929433527), (1865, 0.023430281654828168), (770, 0.02342947158861587), (4356, 0.023388814124078536), (3109, 0.023355763612193554), (2655, 0.02335494538601352), (1483, 0.023321170872990758), (1509, 0.023315399312866393), (1366, 0.02329729975356414), (2389, 0.023190144323968955), (899, 0.023182744413133477), (38, 0.02318108179614041), (123, 0.02317222691868481), (4339, 0.02317144068547795), (1802, 0.023168430356072103), (3878, 0.023162585081021946), (3422, 0.023131064542112313), (3460, 0.023125839245689457), (4212, 0.023068906628936424), (3051, 0.02305622500579304), (530, 0.02301922329616128), (1997, 0.02301102754280218), (1231, 0.023001808476704688), (1142, 0.022974207882778215), (2199, 0.022940718227962405), (2137, 0.02290894682329324), (3853, 0.022896084222342395), (3591, 0.02288797731755658), (1485, 0.022885956939913257), (4053, 0.022815294138728216), (144, 0.022811289073780695), (3619, 0.022809491889233615), (500, 0.02280130989287215), (616, 0.022780069812079397), (3633, 0.022718420956975353), (2767, 0.022709172417776927), (3910, 0.022674658740595856), (112, 0.02262759743092243), (1063, 0.022594154136268904), (2771, 0.022574004889134556), (3108, 0.022571821819074453), (3149, 0.022555925238902708), (2191, 0.022554192843306387), (1572, 0.02253615045463588), (4142, 0.02253157914254319), (1648, 0.022530210126973326), (68, 0.022462167847188994), (1291, 0.0224612767596689), (1539, 0.022425084000258406), (2469, 0.022380834482846536), (3085, 0.022339554918579252), (566, 0.02231945001082567), (2568, 0.022311534598752073), (4375, 0.022266739625561204), (2445, 0.0221967922844629), (1630, 0.022188410008312013), (520, 0.022163991166091267), (695, 0.022109157744144212), (4247, 0.02210407115102028), (3129, 0.022087443496936567), (1054, 0.022081215389586965), (3407, 0.02206494570266939), (32, 0.02205418724799197), (4432, 0.022012269035115595), (1395, 0.02199893320021373), (762, 0.02198716757096425), (2198, 0.021971662032839397), (4017, 0.02193409003147358), (3413, 0.021911763821397492), (3538, 0.021901719462573913), (2774, 0.021838685499741554), (489, 0.021822935236337996), (1809, 0.021795328504927273), (642, 0.02172281667348511), (532, 0.021714480860381517), (4749, 0.021692009749057457), (4325, 0.02168994582891284), (604, 0.021615931434428345), (4221, 0.021610603736050834), (3993, 0.021605660704096266), (1701, 0.021595721393519663), (3479, 0.021585970448883978), (269, 0.021579563044879027), (1314, 0.02156765979325641), (2694, 0.02153069407400042), (3703, 0.021499850401110656), (1116, 0.021489094194584942), (2762, 0.021466570822343038), (418, 0.0214558168312824), (2232, 0.021424789213499756), (626, 0.021312658980746097), (2202, 0.021298710135784688), (3540, 0.021277327008146007), (3375, 0.021259328117027528), (2062, 0.02123442837752395), (795, 0.021228281770436046), (4444, 0.02117331188676376), (2628, 0.02115940008770848), (3896, 0.021146252001288342), (3821, 0.02109110243958709), (2227, 0.02107827332331602), (3911, 0.021058487416458667), (3475, 0.0210414355148885), (4486, 0.021025016970229782), (1379, 0.021017426201965863), (3970, 0.020974272392809974), (847, 0.0209195929596988), (2643, 0.02090433236823338), (3946, 0.020892348215917515), (1327, 0.020853693701133703), (4717, 0.020809414832676176), (2563, 0.02079942277483397), (2094, 0.020752205217905523), (518, 0.020660430887364724), (3148, 0.02065475152107725), (1861, 0.02063483998580818), (1442, 0.020634400349877548), (1169, 0.020625744126259678), (2636, 0.02062163587134288), (3193, 0.02060038337963796), (2139, 0.020581968059865653), (1749, 0.02056834526586395), (1039, 0.02055341469290692), (1868, 0.020538302128136808), (2022, 0.020531572963329574), (702, 0.020517446516032337), (1671, 0.020505556662810058), (653, 0.020449276146343065), (1194, 0.02043111795676296), (3338, 0.02043102735025564), (1594, 0.020425048338381813), (2994, 0.020415835268498345), (4401, 0.020382091961603586), (560, 0.02034567343582898), (3140, 0.020341722994716503), (3506, 0.020325850190525196), (1419, 0.020308498429671785), (1268, 0.02030762806605897), (1068, 0.020275909377560394), (4605, 0.020263762412626382), (4165, 0.02021854674141995), (3978, 0.020201645676758247), (3711, 0.020200312613623848), (3115, 0.020151173496003337), (3166, 0.02014538468160201), (4618, 0.02012250326965915), (2791, 0.02010720180977326), (2225, 0.020086249794740486), (4246, 0.020053589862110657), (2557, 0.020046441320217556), (2629, 0.02000545535403774), (2023, 0.01994482376950938), (1780, 0.019928187448223052), (1971, 0.019921499061571674), (737, 0.01987731861721714), (1626, 0.019870733229108983), (4333, 0.019830712836607995), (4209, 0.019806459325693783), (4443, 0.01980065975122155), (3031, 0.01974459039821755), (436, 0.019717558502798056), (3123, 0.019715517062308716), (4366, 0.01971350402581749), (308, 0.019707050834768616), (3302, 0.019693749196071527), (2116, 0.019689120772918914), (2190, 0.01966402404563286), (1655, 0.019661607989166826), (3127, 0.019648265999065058), (2830, 0.019613766709369807), (1870, 0.019600473023891146), (2661, 0.01958367231145674), (4062, 0.019577353023748134), (1978, 0.019545708037032282), (4111, 0.019529251909061553), (1409, 0.019516542651566486), (3068, 0.019486763001692775), (2393, 0.019468275034596125), (4042, 0.01946473740480539), (2159, 0.019433289869900897), (3306, 0.019417164694322645), (1951, 0.019355162031872486), (2895, 0.019347249149004583), (3677, 0.019344893599119832), (4054, 0.01934374019811401), (2751, 0.019235562163907705), (3794, 0.019212467094817165), (484, 0.019202227690841), (887, 0.019162512104593393), (2772, 0.0191469036020943), (3915, 0.019142020798632916), (3308, 0.019135728805965146), (1467, 0.019076043596407497), (1006, 0.01905905097820392), (4632, 0.019055873427691584), (2370, 0.019005850099139732), (4584, 0.019002561573851353), (2405, 0.018973627321320515), (1798, 0.01891935445355665), (1850, 0.018915144754678457), (1344, 0.018909228118149275), (3517, 0.018888717961803744), (4141, 0.018883970663425516), (4422, 0.018852047003789153), (2725, 0.018847621524431195), (417, 0.018841512393510715), (12, 0.018819696408999834), (2609, 0.018797499618871245), (3975, 0.01877507161321667), (4169, 0.018772683528589323), (1290, 0.01876374509704031), (2684, 0.018745599621700977), (246, 0.018742031201257704), (1398, 0.018711157687127104), (2020, 0.01870604712147007), (166, 0.01870496716596578), (2565, 0.018695025585257194), (3225, 0.018694246116701094), (1781, 0.01865490170518369), (2312, 0.018636015063579554), (3752, 0.018630507101113736), (4679, 0.01862032013654367), (1182, 0.018612583827622944), (2928, 0.018600196826072248), (4369, 0.01859578288373516), (3429, 0.018581578593754068), (2292, 0.018580144410817626), (2878, 0.018577405304284485), (3403, 0.01855579942969523), (1670, 0.01854880320632792), (3501, 0.018543645324072135), (1259, 0.018539909629216946), (4084, 0.018521861785702923), (4225, 0.018499793527008312), (2276, 0.018448854878663545), (148, 0.018407301734105437), (4088, 0.018405951160940792), (2144, 0.018401322155595826), (628, 0.018392783614982654), (3597, 0.018381422356046763), (1909, 0.01834617247411088), (3186, 0.018327237435924303), (478, 0.018292965437768136), (964, 0.018281754033978793), (4640, 0.01827652135867849), (1124, 0.018271010290062797), (2072, 0.018261535819651068), (1061, 0.0182613275525371), (1383, 0.018245833776091736), (1112, 0.018169840662139926), (3673, 0.018168901064222337), (2999, 0.018139338280407077), (3290, 0.01813637052885976), (4394, 0.018102548116079295), (2466, 0.01809897204795113), (106, 0.018092618068423855), (1294, 0.01809165576112998), (2815, 0.018066550304234746), (61, 0.018010765843401152), (769, 0.018003966762971634), (155, 0.017996154524888872), (2573, 0.017976137739316465), (3906, 0.017948634993746566), (1122, 0.01794220552348712), (169, 0.01792343132520344), (1109, 0.017922968454044494), (1087, 0.01791686502550241), (3260, 0.017898636426319583), (1319, 0.01789798491934738), (2980, 0.01789152328574133), (2430, 0.017880301358391127), (1084, 0.017875549287558128), (4530, 0.01784131534265952), (181, 0.01784100909906583), (1580, 0.017835821573799183), (1722, 0.01779651937727883), (788, 0.017796451841950254), (2745, 0.017788365222360325), (1175, 0.017785530853155807), (693, 0.01775556626393713), (476, 0.01774279459492895), (755, 0.01772884588290554), (1876, 0.017724639500905658), (3645, 0.017715589516880348), (3183, 0.017699807057671053), (292, 0.017699430182833733), (3458, 0.017694364349068892), (2624, 0.017686374950767626), (3714, 0.017667254327056486), (488, 0.01764535821400048), (1179, 0.01762095464806057), (2646, 0.017620708886174792), (3044, 0.017618956320912822), (3492, 0.017601713295100657), (4013, 0.017597731511211013), (3696, 0.017592915151781977), (3665, 0.01758145851105592), (646, 0.017543218431418584), (4056, 0.017528168545602137), (824, 0.017512957429213022), (2619, 0.01748954346800361), (3448, 0.01747371053109111), (400, 0.017461590329584945), (1276, 0.017442055333112817), (2143, 0.017441809234790436), (2078, 0.017440985370729283), (1168, 0.017439867652682555), (3554, 0.017436692620168125), (1471, 0.017429254720131092), (2494, 0.017426526341148992), (2990, 0.017425386232115845), (1877, 0.017408028656204944), (4132, 0.017398211300147483), (3390, 0.017381514960761766), (3712, 0.0173668022745543), (2768, 0.017341385242770083), (2756, 0.01734024429417406), (4574, 0.017306618447422175), (1807, 0.017286398793852596), (2111, 0.017262846096581595), (3780, 0.017258153678587032), (98, 0.017256697644519738), (2909, 0.01718779701935259), (3615, 0.017179048170312117), (3721, 0.017171796808523192), (1422, 0.017159094520320113), (3314, 0.01714261317250569), (1041, 0.017124040911235722), (2953, 0.01710871481940627), (2567, 0.0170930803317477), (4286, 0.0170892135516172), (140, 0.017088542919869793), (1245, 0.017082986916198587), (279, 0.017078141177557946), (2864, 0.017077332791353688), (2138, 0.017027672998884375), (1247, 0.017021795287986127), (1007, 0.017016158182734324), (2027, 0.016999678202051765), (2247, 0.016987792732630475), (3328, 0.016975885685733265), (1433, 0.01697200132416104), (935, 0.01696809353175504), (3829, 0.016957753663341263), (1864, 0.016950523104993433), (2640, 0.01691205518037343), (3713, 0.016912004251287825), (782, 0.016911091601744838), (3770, 0.016902480048466506), (482, 0.016871002566447676), (3351, 0.016869567417814164), (1418, 0.01685668011788606), (4616, 0.016851854532352627), (4136, 0.016838077160105956), (1851, 0.01682758458686382), (2911, 0.016822147546309545), (1721, 0.016806551781121733), (4508, 0.01679546605838622), (157, 0.016784388911909674), (2765, 0.016751740595935087), (2068, 0.016746352048156072), (1255, 0.016744922780562617), (3119, 0.01672472675791074), (3617, 0.016691815778466186), (4617, 0.016684978353012744), (3808, 0.016680692372886868), (3681, 0.0166779562542749), (4267, 0.01667654922624255), (3623, 0.016674024665544202), (465, 0.01665480780815649), (3078, 0.016633533069080608), (1860, 0.01662279082629745), (2093, 0.01661089561550935), (1321, 0.016577783829654212), (1355, 0.016552262203230354), (3000, 0.01654931059689198), (2402, 0.016521069677440353), (1793, 0.016517801594125317), (3858, 0.016517742597581833), (202, 0.01650209730396277), (3972, 0.01649820218054057), (947, 0.016456177443451892), (2397, 0.01643879167593859), (3986, 0.01641409300178851), (2313, 0.016410346533658304), (3863, 0.016392937608915675), (3740, 0.016381966856079982), (2061, 0.01637121567086375), (4266, 0.01631010288581115), (3039, 0.01629975675786343), (4452, 0.016292337018646012), (1762, 0.01627442992943011), (2482, 0.016244406362596775), (3168, 0.016219673380553388), (2308, 0.016199472902872967), (4330, 0.016172526474153043), (4104, 0.01617019898954957), (705, 0.01615034807544816), (3943, 0.016148636100070387), (910, 0.016132413423510673), (2932, 0.016129604266022526), (4058, 0.016100679854773304), (1434, 0.01609012028323568), (3049, 0.016072173576486465), (2869, 0.016041806129193745), (914, 0.016027228644863372), (490, 0.01600560661443461), (1500, 0.015970378726948634), (374, 0.015947345877645437), (3442, 0.01593585793931343), (1669, 0.01592700740496016), (2493, 0.015897386524151614), (3697, 0.01586870430823388), (1080, 0.01586515805281644), (4194, 0.015854427111803973), (3046, 0.015853124258413304), (4732, 0.015840541026200264), (2626, 0.015808719418273314), (677, 0.01578590318748807), (446, 0.015767630287393853), (2968, 0.015722559152635086), (752, 0.015721609624027466), (358, 0.015720155797340863), (4518, 0.015713708314852495), (3238, 0.015699424075931678), (4288, 0.015686781014685517), (4433, 0.0156743207719482), (703, 0.015654453141090544), (2154, 0.015626191072545006), (1833, 0.015621074423648296), (2781, 0.015599672723323629), (4493, 0.015599646054642867), (3503, 0.015499217197559315), (3235, 0.015482268782268846), (3722, 0.015446784216084572), (3828, 0.015428592097812756), (4329, 0.01542609368992043), (3774, 0.01542433910967844), (1614, 0.015409401077788204), (2795, 0.015406286852527741), (1365, 0.015404983170336643), (2729, 0.015367321414964505), (2630, 0.015341424009679822), (911, 0.015313047347145139), (1217, 0.015299978193370041), (2651, 0.01529259229784925), (960, 0.015287230266778692), (2211, 0.015285892644186741), (3187, 0.015283175837474457), (239, 0.015278555861499862), (325, 0.01527398293692394), (3048, 0.015258343915229504), (2337, 0.015250166315373863), (3734, 0.015245005881292628), (4469, 0.015242399352434769), (31, 0.015201316654153247), (3150, 0.015195176253596218), (1328, 0.015189829780068201), (3430, 0.015184711141882974), (1741, 0.015145194935786746), (491, 0.015132792268844807), (3034, 0.015121400632427532), (1734, 0.01509296901905445), (1233, 0.015092330852759291), (1627, 0.015064620029692605), (1819, 0.015058567664488001), (3926, 0.015047780781142621), (1555, 0.015047047610773134), (4724, 0.015038307022371133), (797, 0.015032890283283463), (3999, 0.015021343725224994), (4099, 0.015019671795759106), (3342, 0.015009163211257687), (868, 0.015007192511079641), (3104, 0.014988455265499908), (4316, 0.014975748968844398), (1340, 0.014966554414816344), (3229, 0.014959866549383003), (4010, 0.01493598649972569), (3913, 0.01492213893585928), (1356, 0.014916236126662426), (1114, 0.01488761249092153), (3767, 0.01484783910734932), (4649, 0.014843929937350966), (3750, 0.014829698912903049), (3350, 0.014821523549120716), (1927, 0.014800475164857572), (1801, 0.014800319165594485), (850, 0.014785128981357903), (1064, 0.014780019313415426), (2798, 0.01474784894180196), (2913, 0.014731689533240468), (2982, 0.01473116813912288), (934, 0.014731089426003334), (759, 0.014716399264810566), (3912, 0.014716041756328872), (2647, 0.014709498121088693), (2017, 0.014700264789768184), (3288, 0.01469951033150013), (1264, 0.014695122822554658), (2663, 0.014687737602764933), (2236, 0.01466724721969648), (4327, 0.014641409896948916), (658, 0.014626892482254088), (449, 0.01461846431066625), (1991, 0.01461235060279474), (2991, 0.014596074212212986), (0, 0.01457720623682814), (714, 0.01457464086115681), (909, 0.014558472501412125), (1611, 0.014556844065418722), (2285, 0.014544271084737378), (3675, 0.014542241496344751), (1304, 0.014528015050506167), (4630, 0.014516206243180731), (4185, 0.014515725226152687), (3469, 0.014496074074103683), (529, 0.014493283723691826), (4016, 0.014483204603233567), (4637, 0.014475842809739157), (4383, 0.014454564808481719), (585, 0.014452568099708204), (3006, 0.01444844112957293), (4580, 0.014444597993511648), (4735, 0.014435967734585402), (2381, 0.01443210114599315), (1873, 0.014418511769149583), (1297, 0.014416318200758962), (4324, 0.014349897814321355), (1053, 0.01434889620481266), (1638, 0.014348388240753032), (2587, 0.014343949340006778), (3824, 0.01433916053166146), (2406, 0.014329708826058513), (2416, 0.014313703771943059), (22, 0.014302275893001603), (4003, 0.014298918571767287), (550, 0.01429768387157144), (2480, 0.014280453114200174), (3275, 0.0142586506595817), (937, 0.014252902179017144), (4477, 0.014252417977435927), (1692, 0.014251936313567803), (990, 0.014219630652626386), (69, 0.01421295252557423), (3019, 0.014201659601386005), (1573, 0.014190443426261634), (322, 0.014184054944961375), (3864, 0.014177688874750695), (3695, 0.014158515060944793), (3644, 0.014152164055523024), (102, 0.014141892954352524), (4203, 0.014140918978402781), (860, 0.014134732450683609), (4395, 0.014128804681507463), (548, 0.014088333458898917), (3202, 0.014073873220515764), (4676, 0.014050339539292765), (567, 0.014046457702158935), (2000, 0.014043880116352265), (3938, 0.014034955343640495), (4615, 0.014031533457465512), (167, 0.014030254822520466), (1607, 0.014027341818399531), (2653, 0.014014682323579324), (4534, 0.01400946631286838), (2327, 0.014007205809789975), (2958, 0.013996390284917944), (3626, 0.013996003980326886), (2642, 0.013992467264366239), (4244, 0.01397590277241888), (232, 0.013936881907279512), (876, 0.01392458969641194), (351, 0.01391811791027508), (1184, 0.013917467258667795), (978, 0.013896132078171537), (3588, 0.01388864360636534), (2243, 0.013884435974109854), (3315, 0.01387374004152343), (2638, 0.013861024580713241), (798, 0.013859487339679094), (4173, 0.013849473570864192), (4187, 0.01384223097520464), (3850, 0.013833438644528906), (4370, 0.013824721070697992), (4344, 0.013816812943891518), (3043, 0.013810248042101219), (3992, 0.013789951461934857), (1205, 0.013773030623732049), (281, 0.013771910361433116), (3236, 0.013767305070413542), (3135, 0.013762549840793548), (1993, 0.01375283596780615), (14, 0.013747485266343954), (4256, 0.013736401919822342), (3646, 0.013732628845433692), (3897, 0.013724226168239867), (2689, 0.01372174029142159), (1038, 0.013721054910740686), (1529, 0.0137166437622759), (4613, 0.013703054345629625), (2330, 0.013686051508819682), (2566, 0.013684973303691284), (3177, 0.013683016662759923), (2903, 0.013680826446227016), (765, 0.013680405785788295), (3012, 0.013677398485014822), (741, 0.013677362991454346), (1531, 0.013676947713963801), (45, 0.01367069072653962), (617, 0.013646696612197778), (4392, 0.013630395853353629), (4293, 0.013613071085123808), (458, 0.013612189431319999), (3640, 0.013605185500607693), (3189, 0.013599795744886175), (212, 0.013591473575837648), (963, 0.013575641632245066), (231, 0.013573796666833476), (320, 0.013570287281793542), (655, 0.01356216517130553), (3513, 0.013562153355363506), (4639, 0.013544825305044807), (1914, 0.013537454787742504), (2249, 0.013536976024130124), (4621, 0.013526457628057105), (888, 0.013520644100827971), (4531, 0.013519846616622179), (4551, 0.013501020950290939), (2691, 0.013467104920181008), (3961, 0.013465173069332627), (2112, 0.013464761290092452), (4619, 0.013460048251828593), (1715, 0.013455432101895521), (3790, 0.01345398453126547), (3121, 0.013452116690828951), (1754, 0.013438771650338407), (932, 0.013430029885586652), (2996, 0.013425414024033862), (3924, 0.013410334523190808), (2590, 0.013408940329385464), (1470, 0.013398420322528701), (1277, 0.013395486744139967), (2739, 0.013387793918497424), (450, 0.013386287849941857), (2464, 0.013379513897865694), (4628, 0.013360593315120841), (4048, 0.013355180518672752), (1244, 0.01335187657977186), (1562, 0.013341995042256504), (673, 0.013312765566349413), (675, 0.013303913464059552), (4277, 0.013302591830439466), (2175, 0.01330118328889856), (4116, 0.013300145394531226), (1777, 0.013298463794223558), (3446, 0.013293771997919071), (3751, 0.013285185306658344), (1782, 0.01328307126159367), (2584, 0.013281585059824777), (2097, 0.013275402981414374), (3169, 0.01327005513418507), (481, 0.01326696678194088), (2214, 0.013264159581594808), (218, 0.013259000446099544), (4358, 0.013255069620239947), (3522, 0.013248017274533319), (1761, 0.013228077937684678), (2290, 0.013209223193551535), (768, 0.013205176490510314), (1015, 0.013187239476819851), (1874, 0.0131840650349913), (3086, 0.013178639779823035), (2125, 0.013173942032492867), (608, 0.01316486361875901), (210, 0.013147917012321663), (3705, 0.01314180089732936), (1889, 0.01314172498738645), (1964, 0.013128338519854846), (511, 0.013118502043385466), (3650, 0.013116031312585463), (1599, 0.013105897540082411), (2162, 0.013100701785770686), (3095, 0.013097261263802657), (4041, 0.013092521587516106), (485, 0.01307352306171643), (21, 0.013045890867247717), (1141, 0.013037186191380194), (1119, 0.01302491770852185), (4231, 0.013013531573222952), (2096, 0.013003003218455142), (2522, 0.013001812724456427), (1492, 0.013001314455954363), (893, 0.012988684471897303), (315, 0.01298418064242613), (792, 0.012976866184728687), (1339, 0.012966997344383158), (4001, 0.012966160310507398), (4736, 0.012936481195300243), (1687, 0.01293465415357266), (1644, 0.012929736183653725), (3483, 0.01291660212229973), (1853, 0.012912927347948487), (2849, 0.012897128922277755), (2, 0.01289098772983113), (906, 0.012890289294123489), (4123, 0.01288102161898098), (4688, 0.012852929008234568), (4708, 0.012845498890607793), (4474, 0.012845012995980945), (51, 0.012835227988972466), (3984, 0.012829808606272615), (1295, 0.01281748120087306), (1198, 0.01281319880484007), (1821, 0.012801678838104338), (2471, 0.01279578191286396), (429, 0.012785326595155955), (1928, 0.012779654408099752), (4462, 0.012774412448704916), (502, 0.01277144097876518), (3437, 0.012771192237257645), (4007, 0.012769247996245873), (270, 0.012758632813495518), (1508, 0.012747773289374058), (1857, 0.012743228508443968), (3862, 0.01274102240853304), (3382, 0.012729670869241223), (879, 0.012727466909604709), (2710, 0.01270996790268152), (1513, 0.01270817541226498), (543, 0.012705864227594229), (2546, 0.012699797503796432), (1727, 0.012684065477084727), (447, 0.012667526925887001), (2016, 0.012664535233079604), (584, 0.012623014599040349), (1880, 0.012620487263342684), (1846, 0.012609805868935089), (230, 0.012605862209272428), (2919, 0.01260264684837559), (58, 0.012597136125117103), (2053, 0.012594930791886158), (1629, 0.012592821644032326), (806, 0.012589516110411078), (120, 0.012581599618339701), (257, 0.012576222558052278), (2334, 0.012556532932901727), (687, 0.012541429994673874), (773, 0.012522099120868366), (4488, 0.012487958998576664), (652, 0.012478139884248745), (2432, 0.012477035485989291), (2784, 0.01246921277737693), (3699, 0.012460438036787943), (4459, 0.012452975619939103), (1337, 0.012449587950059961), (1740, 0.012444651802683004), (1118, 0.012437315151322254), (2489, 0.012432407917050843), (3142, 0.012416087284485865), (3568, 0.012414109670792765), (1942, 0.012411630445257565), (4068, 0.012393725849321836), (2295, 0.012393383962408158), (1440, 0.012387756530911747), (2177, 0.012383387328960922), (4253, 0.0123826887244967), (1810, 0.01237550845634147), (4004, 0.012371894767896453), (2050, 0.012342795219891727), (4587, 0.012336978590976239), (1700, 0.012336391857391688), (1985, 0.012327170823805059), (864, 0.012327119121085963), (1335, 0.012320897195143229), (1922, 0.012315016342561625), (209, 0.012309936592200501), (3210, 0.012305423923781745), (2517, 0.01230519929005884), (3163, 0.012303718625035195), (4503, 0.012303474221776696), (2934, 0.012288307405920667), (1363, 0.01228475046526571), (3155, 0.012282877302260464), (4018, 0.012277097485393981), (4207, 0.012267892279106175), (1988, 0.012266559002019835), (859, 0.012235807653404323), (5, 0.012235723703583895), (288, 0.012232657538891512), (1256, 0.012221864308737704), (1385, 0.012214768480113505), (2695, 0.012214474658488808), (3783, 0.012208659725752477), (4709, 0.012206469591895074), (1639, 0.0121941251493867), (986, 0.01219011341592962), (2212, 0.012172979230342546), (280, 0.012167528921136088), (1824, 0.012167494924872778), (1496, 0.012163736674510553), (2275, 0.012161227114416265), (1963, 0.012155261174767657), (4268, 0.012150155723866593), (3807, 0.012135460978172235), (1709, 0.012134865995647363), (4159, 0.012131391815776328), (1678, 0.012129726535302683), (2594, 0.012124367214051893), (2627, 0.012121971770508753), (4060, 0.012120342618284348), (1903, 0.012108805819579953), (3374, 0.012106969762211171), (4000, 0.012100548778036287), (105, 0.012098974580557281), (3553, 0.0120907448673774), (1252, 0.012086740548436968), (1438, 0.012081588147973076), (3136, 0.012072876901723125), (2283, 0.012046439679767061), (3083, 0.012033091571691112), (3143, 0.01202201656695069), (2961, 0.012008123697432493), (1571, 0.012007238106315668), (989, 0.011999052810931011), (316, 0.0119967807613741), (2216, 0.011956092150465225), (2734, 0.011940846647580508), (1527, 0.011939236876649856), (1502, 0.01193722867272008), (2910, 0.011936138213585835), (870, 0.011928824181758257), (306, 0.011926380016795371), (2029, 0.011910232684227594), (4387, 0.011895345582454558), (799, 0.011892579856999756), (2279, 0.011886467127421845), (1950, 0.011862781303594045), (80, 0.011860533405538467), (1017, 0.01185760034905968), (1035, 0.011851439874126624), (1967, 0.01185139095272569), (2439, 0.011826090686436867), (4673, 0.011815713776127166), (156, 0.011798013805884563), (1729, 0.01178968837890428), (2080, 0.011786837312442634), (2036, 0.011783355194485952), (87, 0.01177668617626448), (2113, 0.011756503747255884), (366, 0.011746755883714523), (4447, 0.011743780009641425), (1911, 0.011738923435640083), (67, 0.011737854422566708), (85, 0.011735991840510789), (4658, 0.011728313789259015), (396, 0.011723233238559823), (1248, 0.011721060822998525), (1582, 0.01171195675082092), (18, 0.011697881917336499), (961, 0.011695578711337733), (237, 0.011685862565541447), (3504, 0.011684883570260866), (2024, 0.01168211178761055), (2752, 0.011668154225217841), (1443, 0.011662665501048454), (1854, 0.011647602054338735), (2886, 0.011638933566741835), (685, 0.011612166615713683), (3171, 0.011604611339811135), (4374, 0.011580165110712424), (1160, 0.011579273903560353), (3293, 0.011546699671570184), (4124, 0.011543371300970582), (1886, 0.011543345377604446), (434, 0.011541271232502242), (408, 0.011533988862968247), (878, 0.011522514755497627), (3819, 0.011518555777066146), (126, 0.011510241813608517), (3272, 0.011504971446074902), (276, 0.011502701726612012), (3485, 0.011502546601062218), (219, 0.011501360941434613), (1495, 0.011500516049789496), (4440, 0.011484526723814597), (287, 0.011446947519361641), (1665, 0.011422429115210058), (1620, 0.011407160146385206), (1283, 0.011383462151007686), (866, 0.011341104879693194), (2608, 0.01133750558685493), (938, 0.01133084357734589), (2600, 0.011329794785615866), (1183, 0.011323498089795993), (2246, 0.011282805138206325), (3854, 0.01128138782444073), (558, 0.01124930934096051), (376, 0.011244340769465904), (4353, 0.0112412523107403), (669, 0.011224845111057391), (2581, 0.011221943349136005), (2842, 0.011191525825355868), (4542, 0.011176063699905148), (2847, 0.011160653243927687), (1329, 0.01115499247492238), (4122, 0.011152864209317152), (4502, 0.011142077605399769), (1796, 0.0111308432566553), (199, 0.01112362331337204), (2128, 0.011115939895357342), (1360, 0.011102937684395067), (2363, 0.01109777623779511), (1680, 0.01107947515855765), (1237, 0.011074134060222153), (3418, 0.01107113878003127), (3267, 0.011069449409518792), (2055, 0.011056656894732437), (2616, 0.011052561083168199), (3929, 0.011046703690781406), (1595, 0.011040116127785991), (2931, 0.011035375909030826), (3916, 0.011029899460204998), (1387, 0.011012939383163889), (1058, 0.011007067072351669), (3318, 0.010994935139427122), (842, 0.010980639922409838), (1000, 0.010972646858620974), (4475, 0.01097031536868488), (1739, 0.010969105095132116), (2065, 0.010960214304239095), (2077, 0.010951991990512422), (339, 0.010939066097461828), (2607, 0.010934898941123317), (3801, 0.010929838099785247), (4252, 0.010875988795887097), (75, 0.010872143952202698), (3886, 0.010856051619955877), (1342, 0.010809204245285786), (2727, 0.010801189041477095), (2617, 0.010755706026867103), (1487, 0.010717537611188465), (1351, 0.010710446276202386), (1664, 0.010705985384588666), (1029, 0.010697071247160428), (851, 0.01068713923090065), (1343, 0.010675439666453424), (3637, 0.010668616883787053), (3021, 0.010668504137543805), (738, 0.010663555888807304), (1895, 0.010648625717681612), (3535, 0.010633838406947371), (2621, 0.010613686512329043), (4232, 0.010605697225863617), (2412, 0.01059280915110292), (295, 0.010556305282093524), (733, 0.010555274141118008), (147, 0.010554479465280792), (3384, 0.010528204369166181), (874, 0.010520488818267382), (1353, 0.010510493974906868), (2468, 0.010492626340156103), (1540, 0.01049050135868058), (2447, 0.010463130690378152), (3312, 0.010430410523749285), (1591, 0.010400499865742777), (1050, 0.010392993339904528), (905, 0.010388254919174644), (3947, 0.010377661623479233), (3708, 0.010368670189223588), (4747, 0.010335139080601151), (4689, 0.010314740780595525), (760, 0.01030200226562526), (2076, 0.010288985165864895), (4044, 0.010256623871582786), (2486, 0.010253106576678585), (4610, 0.010238580826939684), (2542, 0.010231493808574167), (4335, 0.01022881012925552), (3247, 0.010223619137321517), (4121, 0.0102138798133805), (1078, 0.010159471920958675), (1919, 0.010150830877362115), (207, 0.01014337206902184), (2602, 0.010122467729237174), (2066, 0.010102377646675542), (3110, 0.010102291409244695), (682, 0.010099869745623526), (191, 0.010085741921004629), (4105, 0.01008016809559055), (139, 0.010075672631035043), (40, 0.010073655053974435), (4512, 0.010062220637341215), (4707, 0.010058227260053102), (2145, 0.01003937529261833), (2304, 0.01003377555733318), (4110, 0.010032497749011304), (3317, 0.009991985050457336), (2697, 0.009987177065846013), (2383, 0.009985119211699887), (1369, 0.009984867417030504), (3756, 0.00997889484148689), (1371, 0.0099755455022685), (837, 0.009950421379058707), (385, 0.009941231333421768), (816, 0.009929241531008598), (3652, 0.00992270959401953), (3192, 0.009920800220998295), (942, 0.009917724682080967), (4227, 0.009913530232856732), (1317, 0.009884292608310955), (3453, 0.009877478897650808), (162, 0.009863379557788475), (1681, 0.009859214904966315), (1303, 0.009835886788369294), (70, 0.009822233245553423), (1806, 0.009804054694852562), (1989, 0.009798417599432662), (1674, 0.009796215621646247), (678, 0.009790013094596076), (2978, 0.009764684199624169), (757, 0.009744719648284387), (2082, 0.009742309674439306), (1838, 0.009741655413090093), (4158, 0.00970598618966153), (2688, 0.009698088910818943), (4656, 0.00968367390597367), (4436, 0.00968357791861535), (2168, 0.009673194378398383), (4094, 0.009624190143333957), (1282, 0.009600633455760305), (180, 0.009596352404380021), (2963, 0.009588471281565198), (10, 0.009570078856886705), (1458, 0.009567445628604626), (4557, 0.009525889609711659), (4233, 0.009511535331107098), (1535, 0.00950536081173646), (4265, 0.009503944420027166), (1436, 0.009501761258522506), (3905, 0.00949917699702346), (2877, 0.009490239254420569), (4045, 0.009487317094244186), (3259, 0.009470769336082532), (654, 0.009464928350201594), (640, 0.009463232367791194), (1185, 0.009461155363168144), (3334, 0.009448504865324895), (667, 0.009441466193346298), (474, 0.009436027983143948), (853, 0.00943231560868581), (1393, 0.009429385062091105), (143, 0.009420490885421405), (1221, 0.009397914460938404), (3945, 0.00937381636339628), (928, 0.009371392780099073), (1432, 0.009354320152456885), (1024, 0.009353252535086414), (1536, 0.009338403718483332), (224, 0.009333767429325407), (4390, 0.00933189239179814), (3849, 0.009327319787977911), (57, 0.00932277614462079), (1883, 0.00931955722880931), (1949, 0.00931004271218775), (3507, 0.009309370209815883), (1542, 0.009297733781320748), (2944, 0.009295188710670367), (1341, 0.009277735770263466), (1847, 0.009271842814331754), (2519, 0.009263119879777484), (1735, 0.009261062384120734), (137, 0.009245687532455088), (76, 0.00922349043648199), (869, 0.009207433573989766), (42, 0.009185612451152432), (1832, 0.009171657538313628), (1958, 0.00916636451125397), (1970, 0.009149710015695907), (2788, 0.009142486488405783), (256, 0.00911402137382691), (83, 0.009100202712070678), (1461, 0.009080764196668813), (3245, 0.009073396502906826), (4581, 0.009063927721237415), (1945, 0.009048451826367404), (2841, 0.009028239470264836), (1388, 0.009019384989806258), (4184, 0.009016928639464274), (2013, 0.00900645165602785), (2026, 0.008973143560902163), (3416, 0.008971878147722682), (1455, 0.008969369964001538), (4623, 0.008947854903906073), (4148, 0.008945142523554361), (2336, 0.008929877194501291), (3570, 0.008924097362944769), (2280, 0.008895871439596194), (1504, 0.008894273618455354), (1226, 0.00888986842204102), (787, 0.008883412318726767), (1986, 0.008881266720411512), (2825, 0.00887144329356903), (50, 0.008868503040329647), (613, 0.008851640941684016), (3508, 0.008837687671799339), (1330, 0.008815503236119304), (1128, 0.00879946886359763), (539, 0.008787659283421788), (244, 0.008785126148857975), (503, 0.008735708606397455), (2178, 0.008734927992917875), (825, 0.008709675940287204), (72, 0.008709353815924506), (2057, 0.008708989856412247), (790, 0.008703978293409777), (345, 0.008703599941902451), (2918, 0.008651803530059694), (4543, 0.008649828749674902), (1125, 0.008629587375705764), (1230, 0.008619600927735765), (367, 0.008602902303832075), (2206, 0.008583724463368707), (4481, 0.008580178116742722), (2897, 0.008577686590438558), (542, 0.00855480090022763), (1412, 0.008547581660009882), (2962, 0.008545668152497752), (3465, 0.008529830699333156), (360, 0.00852115187629747), (827, 0.008519344093392332), (422, 0.008484895821826068), (2184, 0.008435773810816722), (833, 0.008404426886618207), (1992, 0.00838968566446781), (3280, 0.008360777025046938), (2742, 0.008337781658900187), (2874, 0.00833470100862455), (3775, 0.00833369351956152), (2119, 0.008330689084628978), (2429, 0.008324482221244102), (916, 0.008321103892237206), (2324, 0.008306880073715614), (745, 0.008302978582866879), (2671, 0.008302629286700197), (1789, 0.008292514430805501), (304, 0.008279339871195683), (122, 0.008272459304316337), (1987, 0.008243285877547517), (2110, 0.008239524691743286), (4235, 0.008228221263406952), (801, 0.008226128809795199), (291, 0.008185599645802788), (3842, 0.008173678985879122), (1236, 0.008166934800054166), (3860, 0.00814217019611219), (2424, 0.008139752861781611), (1173, 0.00812683223850763), (632, 0.008116281148970313), (664, 0.00804984208361076), (3070, 0.00802187076255283), (2833, 0.008004668888202466), (497, 0.007991457641293685), (333, 0.007987786769876602), (2871, 0.007984968928534553), (1694, 0.007973259686254773), (47, 0.007970970022757196), (4450, 0.007960609039583448), (2388, 0.007904352715960293), (1213, 0.007888625289094689), (1797, 0.007872971616557273), (4553, 0.007852352769357229), (1018, 0.007831045608021748), (862, 0.00782344043276298), (1348, 0.007822262065613195), (2971, 0.007813830740504773), (3684, 0.007793618709920741), (4096, 0.007780013757267649), (99, 0.007766575260311598), (629, 0.007754601942670859), (3731, 0.007658420803445283), (621, 0.007598099408061382), (1300, 0.007593489626378517), (3674, 0.007580487296949931), (1214, 0.007530134344051839), (1981, 0.0074995290319806425), (3045, 0.007415987085609464), (1137, 0.007373097125368714), (2555, 0.007321382868086208), (435, 0.007281860489963416), (2524, 0.0072362697481593045), (668, 0.007104646426107118), (1320, 0.0070495365048172465), (2614, 0.006990803369012065), (844, 0.006939531418487513), (4261, 0.006662656710792857), (2440, 0.006538506773118641), (2534, 0.006478648357347081), (4719, 0.006234766568765249), (3226, 0.005921493547052949), (3325, 0.005751493676986882), (4151, 0.005530930379931292), (2678, 0.00524272293601012), (3552, 0.005235606754518652), (2299, 0.0051477579470247566), (4571, 0.005115292367982039), (3178, 0.0050896374382996485), (3512, 0.004936276124553426), (2757, 0.004927139519864595), (4555, 0.004851716023845193), (2998, 0.004832773210695638), (3925, 0.0047916092147980505), (4607, 0.004674557417352854), (2529, 0.004672941728459746), (2379, 0.004645829392514267), (2490, 0.004639796781673498), (2937, 0.0046225566468338355), (4705, 0.00460254052767002), (2764, 0.004586283743234726), (3672, 0.004574333616839287), (2858, 0.004562826407748845), (3139, 0.0045577009397740455), (4082, 0.00454760510002939), (2722, 0.004519126249469263), (2189, 0.004518825475927806), (4202, 0.0045012818072883215), (2989, 0.004485596568270572), (2251, 0.0044790182606758815), (2349, 0.0044571918649516295), (1145, 0.004451460760320317), (2407, 0.004449850537714445), (2889, 0.0044314834647199005), (2537, 0.0044160365651137855), (4704, 0.004397744498036647), (3052, 0.004397015198107438), (735, 0.004395745518450781), (2404, 0.004378490068152734), (2775, 0.004370185791533594), (2870, 0.004363939252312324), (3030, 0.004360970945936134), (627, 0.004358987392069098), (2883, 0.004356274893405439), (2923, 0.00433736757182786), (3291, 0.004325971535038149), (2731, 0.004321085297060943), (4222, 0.004317332956865822), (4529, 0.004316213758280456), (2484, 0.004304214725282582), (2310, 0.004304078975236433), (4484, 0.004292029487624084), (4611, 0.004290844171766121), (3939, 0.0042875298142807565), (2673, 0.00428233610987595), (2861, 0.004266906420182206), (4172, 0.0042557595170997515), (2559, 0.004231781500284048), (4418, 0.004227886019510595), (2832, 0.004224643949350495), (2075, 0.004218043626488686), (4696, 0.004217342210432647), (4407, 0.004210722177414331), (3219, 0.004206932154157797), (2392, 0.004203172483074426), (3292, 0.00420232826524989), (3762, 0.0041938754075081346), (3892, 0.004184773652473682), (4423, 0.004174343362392445), (4019, 0.0041730551724022775), (2425, 0.00417212681877725), (4546, 0.004161077876781009), (2255, 0.004153236161563228), (2257, 0.004144590705516545), (889, 0.0041429319994622325), (3262, 0.004142097383296957), (2350, 0.004136583441659709), (2901, 0.0041330891468122815), (4230, 0.004124709449666266), (2838, 0.0041139918487894025), (1208, 0.004104117694041465), (4400, 0.004103684153628141), (4102, 0.004087329933351032), (3848, 0.004084092291648417), (3015, 0.004079273053805923), (4606, 0.004075427368013272), (3239, 0.004058593660885469), (3128, 0.0040579224925046545), (3354, 0.004052942107875271), (526, 0.0040480195231170435), (1121, 0.004033081391103544), (3249, 0.004026223358780791), (3687, 0.004020742641166493), (4692, 0.004018367159587368), (4521, 0.004018088336952499), (3363, 0.004014784942299242), (4612, 0.004007529479092681), (3616, 0.004003134159875155), (2834, 0.003993768278945938), (3537, 0.003992856822642939), (2438, 0.00398738437115257), (4306, 0.003979896622935965), (3577, 0.003978328605312944), (4107, 0.003974962467918023), (3922, 0.003973948248681085), (3613, 0.003970599938370051), (4660, 0.003969596132975465), (3521, 0.003965832271734433), (3004, 0.003964997500049874), (2266, 0.0039637937701079), (4572, 0.00395083225610954), (3074, 0.003949540501721611), (326, 0.003942329517286178), (2797, 0.003940196606458903), (2957, 0.0039382918044084695), (3874, 0.003936487686592408), (4723, 0.003935941675114688), (2488, 0.00393414726610901), (3832, 0.003929900786859476), (2188, 0.0039287046982473695), (402, 0.003924330311506007), (2879, 0.0039204166701233625), (3620, 0.003919927260769562), (3544, 0.003918522387154257), (2459, 0.003918223247486261), (2966, 0.003913353499515771), (3358, 0.003908162024180077), (3020, 0.003908008535412295), (3228, 0.00390666757640179), (2415, 0.0039062048776004675), (1593, 0.0039012013287424165), (2778, 0.003892506055901989), (2454, 0.0038872098205708816), (2993, 0.003882796782164782), (3901, 0.0038822883002962473), (3257, 0.003878907787190643), (1429, 0.003869976947700449), (777, 0.003869050705781723), (4458, 0.0038393283712176117), (4701, 0.0038366894067352352), (4490, 0.003817658612902037), (2986, 0.003807745457321958), (4023, 0.003801635614077077), (2738, 0.00379892838089679), (431, 0.0037964149109244037), (3763, 0.0037938523601609205), (3935, 0.003793278193608119), (2613, 0.0037924201056439314), (4594, 0.0037917239906750046), (4416, 0.0037892468383907236), (2570, 0.003788831717090018), (3081, 0.003788492270590931), (2378, 0.0037884457770467716), (3524, 0.003787499697060366), (4633, 0.0037832020193484515), (1792, 0.003783053576859742), (2089, 0.0037826360538340234), (4694, 0.0037824003948482366), (1187, 0.0037821859362825875), (4145, 0.0037814465291823238), (1968, 0.0037804581845969666), (2707, 0.0037781734518924194), (2720, 0.0037729113993237727), (1885, 0.003771867695934633), (4412, 0.0037709576548665166), (1748, 0.0037689548348055013), (4030, 0.0037678926907377345), (4589, 0.0037678739111624685), (2846, 0.0037667310307644662), (4032, 0.0037562866094046693), (4075, 0.0037562163859649624), (3951, 0.0037561847365592265), (2142, 0.0037544407379546505), (1547, 0.003749308437378823), (3359, 0.0037463431944654143), (4126, 0.003745927717964122), (3884, 0.0037454151997369655), (2320, 0.0037423272931150736), (2696, 0.0037421288354090106), (2427, 0.0037392599945666313), (2269, 0.0037361833149462524), (2924, 0.0037333732433989172), (3754, 0.00373327601124204), (4163, 0.003732220450695019), (3729, 0.0037307001296139394), (3425, 0.0037300048345081114), (4713, 0.0037265276182155164), (443, 0.003723373726599832), (3408, 0.0037226962904434043), (3230, 0.0037164637642508745), (2987, 0.00371637565252955), (3364, 0.0037162117778682235), (3419, 0.0037149937176278085), (3337, 0.003714393493919521), (3396, 0.0037131157548899313), (823, 0.0037105501549359954), (4650, 0.0037098640155719446), (2872, 0.0037055393531087426), (3355, 0.003703517418783989), (925, 0.0037014753605570786), (508, 0.0037014652030664184), (3165, 0.003697432461758112), (2478, 0.003695481517834449), (2560, 0.0036946607688711822), (2187, 0.0036945804119586263), (614, 0.0036934972980425832), (3952, 0.00369166294579054), (1656, 0.00369071765562655), (3903, 0.003687262934462533), (2796, 0.0036840081716621397), (3423, 0.0036834221725258807), (3651, 0.0036825722226482825), (2702, 0.0036792524863152698), (4117, 0.0036747217253150916), (1497, 0.0036739094528286213), (3661, 0.00367141875989656), (4753, 0.0036707146849814494), (4243, 0.003664742631497209), (3296, 0.0036613472663309284), (2223, 0.0036601909596413193), (3867, 0.0036569621100548504), (2302, 0.003656380998107469), (2437, 0.0036538839540898637), (1843, 0.003651187012402446), (107, 0.0036510361961893073), (3960, 0.003649508335016944), (1887, 0.0036480544972328265), (999, 0.003646337707078164), (2881, 0.0036458882171094527), (2411, 0.0036451563858802163), (4731, 0.003644748725173528), (2623, 0.0036443089771741083), (2936, 0.003644095879065803), (4092, 0.003642980865012193), (2400, 0.0036410218765738486), (4494, 0.003636691705415554), (235, 0.0036334674118193677), (4699, 0.003632101557255736), (3013, 0.0036314528082388485), (576, 0.0036288920779776546), (1349, 0.003627151874398359), (3274, 0.0036270848503423946), (3587, 0.0036262689432086637), (419, 0.0036256027887821836), (2740, 0.003624547766222351), (1023, 0.003618538274374766), (813, 0.0036155559565237633), (3962, 0.003615427467482351), (3822, 0.003614531775826192), (2974, 0.0036142314361962942), (4718, 0.0036103727466947166), (3196, 0.0036097897499669973), (4160, 0.0036092675878947903), (596, 0.0036068932740178448), (2916, 0.0036057982977935254), (1862, 0.0036053092403732596), (1499, 0.0036035909642336177), (3414, 0.003603489387645907), (3032, 0.003603269464061203), (3146, 0.003600770065751387), (3737, 0.003594570977364019), (3593, 0.0035935325639830772), (4051, 0.003591432476435848), (3804, 0.0035909888058503264), (2840, 0.003590365103567345), (3248, 0.0035901738591954464), (1474, 0.0035900264316398537), (3273, 0.0035838757242917033), (2209, 0.003583851288711673), (2585, 0.003583603638915768), (2782, 0.0035834358719292513), (3157, 0.00358307734849976), (4397, 0.0035826711391970007), (41, 0.003582007302086236), (4593, 0.003579586456705422), (1498, 0.003578882821969791), (4706, 0.0035764347903912298), (4259, 0.003575725745528114), (4113, 0.0035755311704297097), (2854, 0.0035751685448461305), (2505, 0.0035750810515894067), (2108, 0.0035730041333456868), (1890, 0.003571994998870901), (3062, 0.0035689392405540287), (688, 0.0035660712333531247), (1960, 0.0035642080832188248), (1658, 0.0035640259063955968), (3797, 0.0035622881361120013), (3967, 0.0035586312741944003), (3026, 0.003556626858087666), (3101, 0.0035565123933382044), (857, 0.0035548403939306182), (967, 0.0035541142798350234), (62, 0.003554111783402889), (2428, 0.0035526003584341334), (715, 0.003552298631885128), (2890, 0.0035521782905077732), (2049, 0.0035489289783184894), (4263, 0.003545595640384203), (3417, 0.003545511996732906), (371, 0.003542312511877898), (587, 0.00354035558731629), (3116, 0.0035374514219470763), (2375, 0.0035365431629567), (1454, 0.0035358091501935048), (2410, 0.0035314967820822044), (4446, 0.003531348426084948), (1479, 0.003530716170231608), (4308, 0.0035302468476015028), (4046, 0.0035290515270739327), (4601, 0.0035234957495670393), (253, 0.003519559183535821), (3234, 0.0035187042199281513), (4130, 0.0035185034311982426), (318, 0.0035179846241397625), (1043, 0.0035178587709859396), (3497, 0.0035172526593617625), (1866, 0.0035150566434666184), (3813, 0.0035124175631538893), (1243, 0.0035111966824297653), (4133, 0.003510117874017667), (3749, 0.003509936521125295), (1905, 0.0035096090258417757), (2293, 0.003508934299552952), (4522, 0.003508141645976636), (1805, 0.003507315986537217), (350, 0.0035045539762621138), (3064, 0.0035028148333648133), (2748, 0.0035005484444370046), (3258, 0.0035004753503979475), (4087, 0.003499444766255336), (2882, 0.003498121043107132), (2507, 0.0034969518409760426), (8, 0.0034960413679931994), (4528, 0.0034959921392140885), (3889, 0.0034912118179972673), (1897, 0.0034903368592069323), (2888, 0.0034870892378235374), (2705, 0.003485626195415813), (4545, 0.0034836161128127315), (192, 0.0034817268621457984), (952, 0.00347985646192587), (794, 0.003478922899347324), (4734, 0.0034789011314435873), (3704, 0.003478777570485506), (3271, 0.003478281560711279), (2477, 0.0034780379564412485), (3893, 0.003477638326971853), (4024, 0.0034763474522203812), (3757, 0.0034725322819947825), (4579, 0.0034698346285957685), (2776, 0.0034670916545718683), (1518, 0.003467021910713225), (3692, 0.0034660701001119195), (1907, 0.003465085794311499), (430, 0.0034648524853950176), (4161, 0.0034631617719269297), (4657, 0.003462196925677691), (2475, 0.0034619040392998707), (3112, 0.0034615798131390806), (1995, 0.003461487682456441), (1359, 0.0034591342881612084), (4540, 0.0034589680658734263), (791, 0.0034582363173782326), (1708, 0.0034575199421161855), (991, 0.003455514026506212), (1637, 0.003453050737367433), (4269, 0.0034529632077927603), (2723, 0.0034524593895963233), (4495, 0.0034480628036243775), (2786, 0.0034473427882029534), (1537, 0.0034465144159165103), (1683, 0.0034447758835338647), (2260, 0.003443656125720291), (3904, 0.0034432134069577146), (4431, 0.003442679209694691), (3728, 0.0034423517048908754), (3873, 0.0034421727539989725), (4680, 0.0034418905483290427), (4038, 0.003441534977579423), (1712, 0.003440938977131665), (2940, 0.0034407496731239232), (2964, 0.003439967307976764), (4005, 0.0034397524533827505), (2712, 0.003439493561257204), (3007, 0.003439043029838971), (2391, 0.0034382176640138707), (2104, 0.0034379440377301624), (1324, 0.0034338776125299947), (3601, 0.003433165148307774), (2151, 0.0034322098932985383), (3218, 0.0034319347475210036), (4357, 0.0034314782722965277), (2970, 0.0034312587120554003), (1619, 0.00343059703877586), (4355, 0.0034294722809967964), (3987, 0.003428614711564548), (2105, 0.0034279119451522417), (4175, 0.0034277909562990157), (3973, 0.0034274044298322243), (1779, 0.0034273105312268752), (3434, 0.0034247392044578565), (3678, 0.0034246572983679144), (680, 0.003423503952703813), (3590, 0.003419534899570238), (493, 0.003417896227731717), (612, 0.0034178494109981467), (208, 0.003417645356722604), (2821, 0.0034174677643407795), (930, 0.0034168380206582223), (1896, 0.0034150445032269483), (4489, 0.00341420224148632), (3618, 0.0034122495724322965), (456, 0.003410637948932144), (4505, 0.003407454188764414), (2714, 0.0034069342171860533), (1484, 0.0034052085606295817), (2288, 0.003405012264814927), (2755, 0.00340396287493432), (193, 0.0034035705493985387), (4318, 0.003401630841461244), (1918, 0.003400315037103355), (3264, 0.003399110960444794), (1822, 0.0033981962288125896), (3037, 0.0033979856223866766), (3406, 0.003397337125002877), (4, 0.003396571166168923), (1225, 0.0033960120834300497), (1893, 0.00339531926614423), (470, 0.0033951791546485604), (4420, 0.003394431377827114), (4566, 0.0033935096675646917), (1400, 0.003393333718001523), (1916, 0.0033923172370087487), (2394, 0.003392021667910279), (3388, 0.0033917221226252466), (1075, 0.0033911412426272463), (783, 0.003391102028586931), (2385, 0.0033905669453012967), (178, 0.003386414906603008), (3654, 0.0033855677358575432), (1570, 0.003385484381151934), (830, 0.003383943455379073), (1902, 0.003383653676296359), (2419, 0.003382039260784137), (3372, 0.003380862777258684), (4757, 0.0033805711216561224), (3242, 0.0033797625379529956), (2633, 0.003379574776342592), (716, 0.0033757124376370758), (4624, 0.0033756432823986876), (1402, 0.003375628105373677), (564, 0.003372532454421909), (1439, 0.0033705707699910594), (4430, 0.0033704175617904402), (4497, 0.0033702899673056065), (3493, 0.0033693422687507274), (2083, 0.003368881352036867), (20, 0.003367111636847918), (2926, 0.0033666281406684847), (3919, 0.0033651686220903467), (211, 0.0033648098257977425), (580, 0.0033638749612098797), (1660, 0.003363462572788986), (204, 0.0033631244662377558), (4448, 0.0033618656104988085), (3599, 0.003361182035416618), (3514, 0.0033606765482953813), (2561, 0.003358458725044317), (3845, 0.0033577234578465462), (890, 0.003357355757882909), (2601, 0.0033572371072610636), (717, 0.0033570290797480377), (1475, 0.0033558988818890765), (2531, 0.0033549262163409237), (3224, 0.003351525195431759), (34, 0.003349740706462189), (1083, 0.0033493847706009177), (884, 0.0033492177278712705), (4361, 0.0033491847118123754), (2904, 0.003348260285784369), (3353, 0.003346734086860767), (1048, 0.003345219157845413), (588, 0.0033450980474836875), (2319, 0.003344186970953284), (4625, 0.003342479094217703), (4262, 0.0033420946743708225), (4756, 0.0033413501213210035), (3536, 0.0033401573328122984), (3349, 0.003339800123538088), (4025, 0.003339684575657672), (987, 0.003338941209654501), (4079, 0.003337105573837552), (2148, 0.003336622876086782), (2744, 0.0033362991886102776), (3920, 0.0033343994639131055), (637, 0.0033335641861822036), (2123, 0.0033320198172427156), (1703, 0.003330712972610423), (3689, 0.0033297104387829796), (1765, 0.003329443024886614), (4340, 0.0033294154366004733), (3527, 0.003327606528201107), (980, 0.0033270681084550556), (4287, 0.0033257764650993786), (3198, 0.003325501135988315), (606, 0.0033241630853588226), (1382, 0.0033227496093255833), (4249, 0.0033214844773365136), (3636, 0.003317458421416031), (377, 0.003316818835960245), (1494, 0.003316331980768425), (1717, 0.0033153627094914487), (1516, 0.003315273701825674), (3153, 0.0033148761911153705), (472, 0.0033141177666624138), (2048, 0.003313319822161156), (3233, 0.0033117233854175936), (631, 0.003309887348673101), (743, 0.003307964223523761), (1946, 0.00330795977514552), (2230, 0.003306013040527185), (2894, 0.003303482963599061), (509, 0.0033012952273474335), (4098, 0.003299764846112687), (1254, 0.003299250671193027), (3289, 0.0032990643577953107), (71, 0.0032979049226927355), (3445, 0.0032968157363123135), (2977, 0.003296100263484308), (3526, 0.0032944403262310405), (4273, 0.003294195700444037), (3542, 0.003293663968140439), (3571, 0.003291762700435051), (115, 0.003291643741085695), (2386, 0.0032911960497914953), (1174, 0.00329093163012994), (1936, 0.0032901027584672287), (1931, 0.0032890545047987107), (933, 0.0032876356090475855), (406, 0.0032843835615870244), (593, 0.0032834238108959495), (3113, 0.003283361041123075), (238, 0.00328329893128065), (1688, 0.0032825953314869205), (2073, 0.0032808430430539444), (750, 0.0032795840624156953), (3182, 0.0032792780928083873), (3283, 0.0032789357500593542), (3707, 0.0032763564440931323), (3303, 0.003275921917741609), (2155, 0.003275416683057788), (2045, 0.003271547762348574), (3643, 0.0032703177803923293), (353, 0.0032694463814078286), (1413, 0.003267042361515127), (1204, 0.003266139163307403), (1533, 0.003265442299693406), (2091, 0.0032639492601412514), (2277, 0.003263205598669336), (2374, 0.0032624823009025088), (2887, 0.0032618329318135565), (3386, 0.003261778530374893), (1476, 0.0032614250885856823), (4014, 0.003257127995955018), (1472, 0.003256569752261017), (1138, 0.0032563884778565805), (1872, 0.0032559073182444596), (3739, 0.0032545343295781637), (1410, 0.0032535462805507506), (4391, 0.003253259453694813), (636, 0.0032510786998390614), (2122, 0.003249806396910409), (1574, 0.003248542945565555), (2396, 0.003248401058301169), (2554, 0.003247497078853447), (3227, 0.0032458208552054555), (897, 0.0032436255544108753), (343, 0.0032435556576082903), (2606, 0.0032413759684084683), (696, 0.003240247599438208), (3436, 0.0032398407268602655), (2783, 0.0032396535867681986), (2492, 0.0032392910148115826), (4686, 0.00323876920479734), (4517, 0.003238615451269249), (504, 0.0032385979468921625), (2067, 0.003238497798993631), (3541, 0.003238183387221545), (2533, 0.003237729877330494), (4081, 0.0032369607482991593), (4604, 0.0032365316015935224), (2826, 0.0032363326503500683), (3125, 0.0032350440274142435), (378, 0.003232930359135249), (697, 0.0032326004284501976), (1191, 0.003231839247579145), (3491, 0.0032317813867846013), (3564, 0.003231632935203932), (2340, 0.0032271181275020377), (2344, 0.0032258346446677176), (1170, 0.0032227602618421147), (2354, 0.0032223528621811407), (114, 0.0032222051197848037), (749, 0.003221078571611072), (761, 0.003219621497672666), (2558, 0.0032195673131332637), (2495, 0.003218858826880706), (1378, 0.0032164093911425016), (4427, 0.0032155303716013685), (66, 0.0032128640564323945), (2387, 0.003212143050045515), (2195, 0.0032106553396692864), (3346, 0.0032105860090920575), (3174, 0.003210549144884396), (2900, 0.0032089065429544727), (3330, 0.003208180414515219), (2943, 0.003207573733599682), (1612, 0.003205594738937786), (3216, 0.0032034408988305106), (2853, 0.003203014572149087), (4409, 0.0032001000010466857), (3299, 0.003198800415320147), (2289, 0.0031968515304178825), (1811, 0.003193255888867376), (3441, 0.0031927032713323132), (3477, 0.0031920914962227137), (3727, 0.0031917518917279637), (1891, 0.003191211916080842), (3624, 0.00318931339048519), (4520, 0.0031867449430628297), (348, 0.003186679662278737), (2060, 0.0031864555834263185), (3565, 0.003185897433881713), (1831, 0.003182928392456053), (466, 0.0031825926324366197), (464, 0.0031819656500735546), (1411, 0.003181054077265271), (2569, 0.003180898360391402), (3381, 0.003180704398215808), (4228, 0.0031803408809237656), (3067, 0.003180164666153352), (174, 0.00317970780182585), (3237, 0.003179572436708215), (1666, 0.003174528977846919), (1550, 0.003174289154086777), (880, 0.003172917233625933), (867, 0.003172611295505443), (1313, 0.0031721656579294724), (4668, 0.003171937178083844), (973, 0.0031715472714951803), (4487, 0.003171537076121951), (2173, 0.003169934963984033), (3093, 0.0031680883426436373), (2946, 0.0031680511873424214), (3195, 0.0031679428755401738), (3647, 0.0031672231630836254), (2687, 0.003167128230574333), (4349, 0.0031654204854653046), (2463, 0.0031642813953076977), (1110, 0.00316421152700692), (2069, 0.0031628625267760067), (215, 0.003162570268519873), (3499, 0.0031624464761360583), (4685, 0.0031604794010492983), (1026, 0.003158862592730485), (4284, 0.0031585788824336504), (4020, 0.0031581258254400045), (3827, 0.0031562949842234246), (3379, 0.003156074995510875), (1286, 0.003155886107780697), (2945, 0.003151132672602857), (2087, 0.003148548825995677), (2102, 0.003147067069785587), (3220, 0.0031461819568302627), (3447, 0.003145616419002426), (4036, 0.0031453928999702722), (4641, 0.003144716160822565), (3069, 0.003143654743648227), (2632, 0.0031434757244017167), (1617, 0.0031427251969657964), (3719, 0.0031420642812311746), (3706, 0.0031416559918885515), (3412, 0.0031395829257487916), (1653, 0.003139209604696015), (3402, 0.00313698823255939), (2698, 0.0031364222621677357), (1350, 0.003135726646891072), (2103, 0.003134566517208226), (127, 0.0031344533115793822), (1096, 0.0031317848619031707), (2008, 0.003130598765476763), (2401, 0.00312857726834688), (4693, 0.0031269843001994497), (4576, 0.003126692365900668), (3075, 0.0031264471199573102), (2422, 0.0031248282524641464), (329, 0.0031228191330432485), (349, 0.003122161991188105), (2461, 0.0031212331867254157), (4381, 0.0031208337083110283), (4550, 0.0031207654554705334), (4573, 0.0031206891609329625), (1044, 0.0031184525570570427), (2912, 0.0031170723055692355), (1261, 0.0031167727766288657), (1030, 0.003116101796232711), (4129, 0.0031159051622075356), (3348, 0.0031153567964319544), (817, 0.003115221029726799), (541, 0.003113722692858221), (3028, 0.003110810982123428), (1645, 0.0031098835803535026), (4336, 0.003109415643839588), (4069, 0.0031093476697545085), (4139, 0.0031085851872544763), (651, 0.00310792621942291), (1060, 0.0031059277809885434), (2467, 0.003105835063693409), (3010, 0.003104220594103201), (1463, 0.0031037644468956383), (1597, 0.0031009677522068286), (2716, 0.0031007443419553125), (923, 0.003100106853202132), (4461, 0.0030990315721210284), (3917, 0.003096654274539089), (3900, 0.0030955020213471233), (3826, 0.0030948033735561814), (4729, 0.0030921574635136583), (1020, 0.0030884105772932225), (3246, 0.003086077415706463), (1033, 0.00308563165220331), (1446, 0.00308490131472059), (4670, 0.003083626386164037), (1034, 0.0030828311439153357), (487, 0.0030816164912749002), (2367, 0.003081451669061505), (3868, 0.0030801737521734046), (731, 0.003079344838930976), (1027, 0.0030782489924832826), (1416, 0.003076255816898762), (3498, 0.003075758475192451), (883, 0.0030750891895188984), (4614, 0.0030748541763647537), (3214, 0.003073286094067571), (3268, 0.003072456242111574), (3122, 0.003070965496657379), (356, 0.00307059950801446), (1929, 0.003068881905411327), (2540, 0.0030680926182221112), (1001, 0.0030680910744354567), (3733, 0.0030659309223135104), (29, 0.003065548013345928), (4321, 0.003064765718072724), (3035, 0.0030645991884395633), (3784, 0.0030640884814292415), (1273, 0.0030637170646457762), (164, 0.0030631444557984904), (3170, 0.0030624983208312954), (984, 0.0030620680651772406), (221, 0.003060711195404358), (3036, 0.003060575120439888), (2706, 0.003060429161302848), (2242, 0.0030597861670760133), (1375, 0.0030596196620341727), (1123, 0.003059443406846116), (644, 0.003058048470269562), (2965, 0.0030579514090830514), (4206, 0.003057814411082501), (4428, 0.003056743080559445), (1878, 0.003056548689269605), (3898, 0.003054852175514068), (4345, 0.0030535005295724), (962, 0.0030524437533860777), (3799, 0.0030514912750154092), (373, 0.0030508517393528843), (2572, 0.0030494065473658334), (1710, 0.0030493622884630468), (2679, 0.003046172105132518), (698, 0.0030457123691247394), (1742, 0.0030437981870226638), (1404, 0.0030429475068046888), (2997, 0.0030426855553901586), (4399, 0.003042322706325181), (818, 0.0030411456762636994), (1032, 0.00304050243546107), (197, 0.0030395478726934445), (966, 0.003039440521642729), (3014, 0.0030389613207736092), (388, 0.003038933954759203), (3194, 0.003038453676469732), (116, 0.0030382402307576454), (578, 0.0030382117476049296), (1036, 0.003036129949209056), (2303, 0.0030360846101874107), (387, 0.003036031662739489), (3811, 0.0030347282356791776), (2972, 0.0030343580191092728), (2812, 0.003033788640680517), (4257, 0.003032525244732397), (1177, 0.0030324424071974006), (2348, 0.0030321698838849565), (2166, 0.0030317334635343693), (3433, 0.0030311220660333266), (694, 0.0030271928015274748), (2899, 0.0030261249059412784), (3300, 0.003025181259718672), (4011, 0.0030232635327192055), (507, 0.003022685587147552), (4254, 0.003022625434113479), (1203, 0.0030225040928225032), (1693, 0.0030225015426813525), (3057, 0.003019886622445216), (1372, 0.003019752293743319), (903, 0.003017522124993847), (941, 0.003015047742551855), (3243, 0.0030150361420023647), (734, 0.0030148218804293115), (975, 0.0030136117349027058), (4059, 0.003010435413349163), (900, 0.0030098500195098977), (2552, 0.0030096945304739125), (1206, 0.0030093006220972608), (2099, 0.0030088650802554177), (1884, 0.0030088329536900236), (2634, 0.0030079134181990068), (2149, 0.003007796912970604), (3399, 0.0030075291151590066), (471, 0.003006215210805824), (4634, 0.0030038162629003593), (4603, 0.003002814851379774), (3452, 0.0030017854965007184), (229, 0.0030011859286574005), (2862, 0.0030000719150880886), (372, 0.0029994187288687373), (598, 0.002999348158567739), (944, 0.002999211606020769), (659, 0.0029986049966809598), (3725, 0.0029974015646545044), (3147, 0.0029968509131380666), (213, 0.0029961281157526976), (921, 0.0029960043725384146), (410, 0.0029949026832127817), (838, 0.0029933520569769933), (1558, 0.002992447596287156), (3500, 0.0029865914492840473), (2907, 0.0029855499627640257), (1641, 0.0029851780228833482), (2556, 0.0029849804379851108), (589, 0.002983409195566219), (2129, 0.0029828783249926786), (1052, 0.00298021301169764), (1642, 0.0029793619883913733), (1514, 0.002979213477276317), (766, 0.0029785922405450318), (2317, 0.0029785745086923976), (3627, 0.0029785270772770597), (2868, 0.0029783036932579583), (1519, 0.0029768389852297393), (4402, 0.0029766416332417506), (1920, 0.002976463283633676), (1760, 0.002976305911566343), (1448, 0.002974511411330556), (136, 0.0029727396315812078), (2735, 0.002972232769357613), (2399, 0.0029715207014106098), (2593, 0.002970045102401743), (3369, 0.0029693458247568565), (15, 0.0029692291483131485), (355, 0.002968356524826824), (590, 0.0029669673775669517), (638, 0.002966960457302473), (1357, 0.0029665924984201954), (1543, 0.002965843669499106), (1814, 0.002964034920826842), (2674, 0.0029633024467181604), (4282, 0.0029632464205106095), (2845, 0.002962937063064822), (3389, 0.002960671302406787), (907, 0.002960360191379658), (1079, 0.0029603035349951407), (4176, 0.0029600456274188106), (2347, 0.002959258073301039), (2453, 0.0029586751075572604), (1875, 0.002956135436285837), (3455, 0.0029558014137972166), (359, 0.002954226390727185), (1462, 0.002952665202948169), (183, 0.0029523252552216593), (4326, 0.002951378817404923), (2362, 0.002950877110635851), (416, 0.0029499364539471848), (3050, 0.002949339513970025), (3284, 0.002948303518078405), (1672, 0.0029469334061944393), (1628, 0.002945500726378038), (2920, 0.0029453953579538484), (2301, 0.0029446986822359456), (624, 0.0029444661873743554), (3329, 0.002942960537006405), (4620, 0.0029412845181996153), (3742, 0.002940437268838559), (957, 0.0029394598611587647), (2954, 0.002939351213480183), (4359, 0.0029389817124761647), (3563, 0.002933957767780566), (2728, 0.0029301507837446246), (2803, 0.0029295528475404755), (3953, 0.0029289665081640064), (2011, 0.002927173980739561), (3278, 0.0029271155938089596), (3474, 0.002925130367034865), (1528, 0.002923890305310166), (2265, 0.0029224039647811296), (1216, 0.0029191161688066434), (1503, 0.0029186930634172085), (968, 0.0029160664788359875), (3304, 0.0029148929873440226), (1869, 0.002914611937356556), (3614, 0.002913771925998658), (3311, 0.0029119837507274936), (1827, 0.0029110127443073707), (1826, 0.002910949452876909), (4154, 0.0029088593766449728), (1605, 0.0029082567547853797), (428, 0.0029063539495061863), (1161, 0.002905894101821686), (1220, 0.0029054889529972782), (1719, 0.0029052602106768035), (2323, 0.0029050312244584633), (2031, 0.002904896129338952), (581, 0.0029009636679247033), (1690, 0.0029003364441548387), (4712, 0.0028999282645977716), (981, 0.002898120726416455), (3974, 0.0028974179781872207), (4074, 0.00289700301978146), (3027, 0.0028967779602552487), (2457, 0.002895752839103199), (804, 0.002895368307264127), (2248, 0.0028940783001658492), (597, 0.00289375854343992), (4143, 0.002893664979023468), (161, 0.0028935360754162574), (800, 0.0028934713012253154), (722, 0.0028925314465416767), (4304, 0.002889207079416901), (2591, 0.002888066560217892), (1219, 0.002887907370085635), (158, 0.0028875882330106862), (1808, 0.00288703049944954), (3841, 0.002886876545492061), (4080, 0.0028863736522795553), (2976, 0.0028837255145650782), (3167, 0.0028829119803008216), (917, 0.002881431303141899), (3556, 0.002878335856322088), (594, 0.002877325467653499), (1921, 0.002876950449787369), (815, 0.002875964759649688), (2580, 0.0028748056478779343), (732, 0.0028737288712251488), (2163, 0.0028723934368370336), (1414, 0.0028718727628537907), (268, 0.002871159563878373), (2213, 0.002870707203264496), (672, 0.002870513560489717), (1977, 0.0028661697048621604), (1392, 0.0028621383582780433), (2724, 0.0028605231779495117), (657, 0.0028586656130081267), (3380, 0.0028576249690275453), (1423, 0.00285696142177755), (4608, 0.00285668162774781), (132, 0.0028539976861452674), (4661, 0.002853496623263248), (252, 0.00285146514192316), (4343, 0.0028473852920536244), (495, 0.0028472104873912473), (3755, 0.002845058711331583), (33, 0.0028449017542347735), (200, 0.00284445518946311), (712, 0.0028440919198461302), (519, 0.002842333203921896), (1608, 0.0028414837494179983), (1553, 0.0028410853698501762), (2502, 0.0028402201332033803), (4220, 0.00283985080405097), (1199, 0.0028397509672405687), (2753, 0.0028359449623116535), (184, 0.0028347247993641324), (222, 0.002833362229902643), (92, 0.002832971444058951), (605, 0.0028325822474891856), (1616, 0.0028289531827146446), (2975, 0.002828142545082535), (4066, 0.002827023430204368), (1186, 0.0028266035716760407), (97, 0.002825017881597858), (480, 0.0028247916261914486), (2237, 0.0028247474126763712), (647, 0.0028244797718495634), (3894, 0.002823258396980015), (249, 0.002823172486557577), (1136, 0.002822174018232732), (3895, 0.002818015718094911), (1301, 0.0028124019097553223), (3880, 0.002808515525674087), (924, 0.0028040245779812293), (4296, 0.0028040108908008606), (1943, 0.002801959824870395), (3096, 0.0027983046696250886), (2721, 0.002797161211527872), (4429, 0.0027950506497180774), (1465, 0.0027909322803912674), (2520, 0.0027906171813694746), (2747, 0.002789357854895872), (103, 0.0027882401281492507), (2942, 0.002785596544598201), (1397, 0.0027838018540468014), (2270, 0.0027813973969045853), (357, 0.002777919779896237), (1828, 0.002777677716341557), (4386, 0.00277637223423116), (1370, 0.002775695259534293), (1450, 0.0027741279885113938), (278, 0.002772530581190938), (861, 0.0027720854775311336), (2761, 0.0027702047591843066), (2527, 0.0027687086689288346), (3629, 0.0027646442604776374), (2611, 0.002761736078888593), (3569, 0.002760010036880984), (2743, 0.0027599749386834874), (2382, 0.0027575911072552288), (1763, 0.002756700227595077), (445, 0.002755810755520828), (1215, 0.002755468897740502), (4476, 0.0027546267257983212), (60, 0.002753742847200219), (1088, 0.0027518515209488405), (1565, 0.0027516027378637633), (2146, 0.0027510612429103697), (2981, 0.0027499383119621705), (496, 0.0027483428511202008), (3579, 0.002747795780443215), (3409, 0.0027464478037445075), (1743, 0.0027401017587565957), (3200, 0.0027352041013932412), (3065, 0.0027343244953001227), (2758, 0.0027339909726931313), (3344, 0.0027338977720400078), (2933, 0.0027338048691655523), (3855, 0.002731483404331505), (403, 0.002728515710397218), (3669, 0.002728074442023516), (267, 0.002728038675519932), (2035, 0.0027271104570063495), (3668, 0.002724750216276831), (3634, 0.0027217689482498756), (951, 0.0027175622525378645), (1312, 0.0027166277033665235), (4636, 0.00271470122274776), (2039, 0.002707836399806212), (707, 0.0027076264703701095), (2157, 0.0027068553246122587), (195, 0.0027057940055647883), (2603, 0.002703689043934794), (2127, 0.0027024510799912365), (3347, 0.0027018717536887), (2132, 0.002689375818609887), (3928, 0.002688992786740029), (1042, 0.0026885768221355), (1367, 0.002688278770024863), (2359, 0.0026868747711949587), (2287, 0.0026856982838963993), (2355, 0.0026837853354683737), (3331, 0.0026834480534441616), (16, 0.0026831159660487347), (1209, 0.0026825931315248336), (3252, 0.0026823682387117397), (44, 0.0026797056908788846), (2221, 0.0026762012134224924), (796, 0.0026726020470830033), (2969, 0.002669920784983355), (901, 0.00266633794613665), (3024, 0.00266297356863485), (25, 0.0026628721851614137), (4200, 0.0026615521221167553), (1305, 0.0026613037712880394), (2844, 0.0026587223940027493), (3957, 0.0026533752435792916), (2034, 0.0026521656096766496), (3548, 0.002647256674654098), (1241, 0.0026463853799334074), (2509, 0.0026454172998325383), (1427, 0.0026388567278456607), (1415, 0.0026374712544554916), (2526, 0.002633877338233007), (3254, 0.0026321154897832105), (645, 0.00262920870306949), (1098, 0.0026250224061074067), (1037, 0.0026186557903672444), (4311, 0.0026153802608469374), (4744, 0.0026096122107015294), (4626, 0.002602650993605222), (3575, 0.002600675597627192), (953, 0.0025919119342830118), (3410, 0.00259047184843141), (719, 0.002586191132086374), (4674, 0.0025855158202765763), (3431, 0.0025850675199392656), (407, 0.0025829328793282777), (194, 0.0025827968203898624), (510, 0.002573185418227633), (1144, 0.002566516298285303), (63, 0.0025620089648917175), (3471, 0.0025595528200105665), (706, 0.0025568551690619314), (2766, 0.002554322640274566), (3362, 0.0025490932554069466), (527, 0.002548482681276048), (2010, 0.0025422040662397465), (4598, 0.0025255120186140428), (3301, 0.002520858449404514), (159, 0.0025194630113598805), (3152, 0.002512060397136997), (1747, 0.0025052219664970523), (571, 0.0024820096351912736), (266, 0.002476912932483744), (3316, 0.0024762631955260114), (1403, 0.0024733138600202542), (2760, 0.002470821322286608), (453, 0.0024615734943748235), (4652, 0.0024605617799329338), (82, 0.0024428577190332267), (4182, 0.0024423103820281913), (562, 0.002442203054752687), (228, 0.0024380302201599366), (452, 0.0024245572418556053), (3285, 0.0024200708919726345), (4445, 0.002416641814829687), (296, 0.002412679266714698), (3983, 0.002411673329051275), (2550, 0.002407209678796982), (3546, 0.002401727782512876), (4301, 0.002388352466634701), (2902, 0.002367592855119645), (283, 0.0023557763594883947), (1306, 0.002346707979416277), (7, 0.002312511093917902), (4752, 0.0023058940210480376), (293, 0.0022888977062487793), (4171, 0.002275096622332808), (3365, 0.0022701520352748613), (243, 0.0022663751089455806), (940, 0.0022529388971823344), (129, 0.0022479268187463397), (330, 0.0022242978206992933), (858, 0.002173558166303905), (740, 0.00215953269902573), (3392, 0.002138960458303494), (2443, 0.0021141520706110133), (24, 0.002102509211315818), (3608, 0.0020967878805406037), (2538, 0.0019261122114153939), (475, 0.0011253791728999608), (1, 0.0), (6, 0.0), (9, 0.0), (13, 0.0), (17, 0.0), (27, 0.0), (28, 0.0), (30, 0.0), (35, 0.0), (36, 0.0), (37, 0.0), (39, 0.0), (46, 0.0), (49, 0.0), (54, 0.0), (59, 0.0), (64, 0.0), (77, 0.0), (84, 0.0), (93, 0.0), (94, 0.0), (95, 0.0), (100, 0.0), (101, 0.0), (110, 0.0), (125, 0.0), (130, 0.0), (131, 0.0), (133, 0.0), (135, 0.0), (141, 0.0), (151, 0.0), (152, 0.0), (153, 0.0), (160, 0.0), (163, 0.0), (168, 0.0), (186, 0.0), (187, 0.0), (189, 0.0), (214, 0.0), (220, 0.0), (223, 0.0), (225, 0.0), (234, 0.0), (240, 0.0), (241, 0.0), (248, 0.0), (259, 0.0), (260, 0.0), (263, 0.0), (264, 0.0), (265, 0.0), (272, 0.0), (273, 0.0), (275, 0.0), (284, 0.0), (289, 0.0), (290, 0.0), (294, 0.0), (297, 0.0), (298, 0.0), (299, 0.0), (300, 0.0), (301, 0.0), (302, 0.0), (305, 0.0), (310, 0.0), (314, 0.0), (319, 0.0), (321, 0.0), (323, 0.0), (327, 0.0), (328, 0.0), (331, 0.0), (335, 0.0), (336, 0.0), (337, 0.0), (338, 0.0), (340, 0.0), (341, 0.0), (344, 0.0), (347, 0.0), (352, 0.0), (361, 0.0), (362, 0.0), (363, 0.0), (365, 0.0), (379, 0.0), (381, 0.0), (382, 0.0), (383, 0.0), (384, 0.0), (386, 0.0), (390, 0.0), (391, 0.0), (392, 0.0), (393, 0.0), (394, 0.0), (397, 0.0), (398, 0.0), (401, 0.0), (404, 0.0), (405, 0.0), (409, 0.0), (411, 0.0), (413, 0.0), (414, 0.0), (420, 0.0), (421, 0.0), (423, 0.0), (424, 0.0), (425, 0.0), (426, 0.0), (427, 0.0), (438, 0.0), (439, 0.0), (440, 0.0), (451, 0.0), (459, 0.0), (460, 0.0), (462, 0.0), (467, 0.0), (469, 0.0), (477, 0.0), (486, 0.0), (498, 0.0), (506, 0.0), (512, 0.0), (513, 0.0), (517, 0.0), (523, 0.0), (525, 0.0), (528, 0.0), (535, 0.0), (536, 0.0), (537, 0.0), (538, 0.0), (540, 0.0), (545, 0.0), (546, 0.0), (552, 0.0), (554, 0.0), (555, 0.0), (556, 0.0), (557, 0.0), (559, 0.0), (561, 0.0), (568, 0.0), (570, 0.0), (572, 0.0), (574, 0.0), (575, 0.0), (577, 0.0), (582, 0.0), (583, 0.0), (586, 0.0), (592, 0.0), (595, 0.0), (599, 0.0), (601, 0.0), (602, 0.0), (603, 0.0), (610, 0.0), (615, 0.0), (618, 0.0), (619, 0.0), (625, 0.0), (630, 0.0), (633, 0.0), (634, 0.0), (635, 0.0), (639, 0.0), (648, 0.0), (649, 0.0), (650, 0.0), (661, 0.0), (663, 0.0), (666, 0.0), (671, 0.0), (674, 0.0), (681, 0.0), (686, 0.0), (690, 0.0), (699, 0.0), (704, 0.0), (709, 0.0), (713, 0.0), (718, 0.0), (720, 0.0), (723, 0.0), (726, 0.0), (736, 0.0), (747, 0.0), (748, 0.0), (754, 0.0), (758, 0.0), (763, 0.0), (764, 0.0), (771, 0.0), (772, 0.0), (775, 0.0), (776, 0.0), (778, 0.0), (779, 0.0), (780, 0.0), (781, 0.0), (784, 0.0), (785, 0.0), (786, 0.0), (789, 0.0), (793, 0.0), (803, 0.0), (807, 0.0), (809, 0.0), (810, 0.0), (811, 0.0), (819, 0.0), (820, 0.0), (821, 0.0), (822, 0.0), (834, 0.0), (835, 0.0), (836, 0.0), (841, 0.0), (855, 0.0), (873, 0.0), (877, 0.0), (881, 0.0), (882, 0.0), (891, 0.0), (892, 0.0), (898, 0.0), (902, 0.0), (912, 0.0), (920, 0.0), (926, 0.0), (927, 0.0), (943, 0.0), (945, 0.0), (946, 0.0), (950, 0.0), (954, 0.0), (955, 0.0), (956, 0.0), (958, 0.0), (965, 0.0), (970, 0.0), (972, 0.0), (974, 0.0), (977, 0.0), (982, 0.0), (992, 0.0), (996, 0.0), (997, 0.0), (1003, 0.0), (1008, 0.0), (1011, 0.0), (1012, 0.0), (1016, 0.0), (1022, 0.0), (1025, 0.0), (1031, 0.0), (1045, 0.0), (1046, 0.0), (1051, 0.0), (1056, 0.0), (1057, 0.0), (1070, 0.0), (1081, 0.0), (1082, 0.0), (1085, 0.0), (1091, 0.0), (1093, 0.0), (1094, 0.0), (1095, 0.0), (1099, 0.0), (1101, 0.0), (1105, 0.0), (1106, 0.0), (1113, 0.0), (1120, 0.0), (1126, 0.0), (1127, 0.0), (1129, 0.0), (1130, 0.0), (1133, 0.0), (1134, 0.0), (1143, 0.0), (1146, 0.0), (1147, 0.0), (1149, 0.0), (1150, 0.0), (1151, 0.0), (1152, 0.0), (1153, 0.0), (1154, 0.0), (1155, 0.0), (1156, 0.0), (1157, 0.0), (1158, 0.0), (1159, 0.0), (1164, 0.0), (1165, 0.0), (1166, 0.0), (1171, 0.0), (1172, 0.0), (1178, 0.0), (1180, 0.0), (1181, 0.0), (1189, 0.0), (1193, 0.0), (1196, 0.0), (1197, 0.0), (1200, 0.0), (1201, 0.0), (1207, 0.0), (1210, 0.0), (1211, 0.0), (1212, 0.0), (1218, 0.0), (1227, 0.0), (1228, 0.0), (1235, 0.0), (1238, 0.0), (1240, 0.0), (1242, 0.0), (1246, 0.0), (1249, 0.0), (1250, 0.0), (1258, 0.0), (1262, 0.0), (1263, 0.0), (1265, 0.0), (1266, 0.0), (1267, 0.0), (1269, 0.0), (1270, 0.0), (1271, 0.0), (1272, 0.0), (1274, 0.0), (1279, 0.0), (1280, 0.0), (1281, 0.0), (1285, 0.0), (1287, 0.0), (1288, 0.0), (1289, 0.0), (1293, 0.0), (1299, 0.0), (1302, 0.0), (1307, 0.0), (1309, 0.0), (1311, 0.0), (1315, 0.0), (1316, 0.0), (1322, 0.0), (1326, 0.0), (1331, 0.0), (1332, 0.0), (1336, 0.0), (1345, 0.0), (1347, 0.0), (1354, 0.0), (1361, 0.0), (1362, 0.0), (1368, 0.0), (1374, 0.0), (1376, 0.0), (1380, 0.0), (1381, 0.0), (1386, 0.0), (1389, 0.0), (1390, 0.0), (1391, 0.0), (1396, 0.0), (1399, 0.0), (1401, 0.0), (1407, 0.0), (1420, 0.0), (1424, 0.0), (1425, 0.0), (1426, 0.0), (1428, 0.0), (1431, 0.0), (1435, 0.0), (1437, 0.0), (1441, 0.0), (1445, 0.0), (1451, 0.0), (1452, 0.0), (1453, 0.0), (1457, 0.0), (1459, 0.0), (1460, 0.0), (1468, 0.0), (1469, 0.0), (1473, 0.0), (1480, 0.0), (1486, 0.0), (1491, 0.0), (1493, 0.0), (1501, 0.0), (1505, 0.0), (1511, 0.0), (1515, 0.0), (1517, 0.0), (1520, 0.0), (1521, 0.0), (1522, 0.0), (1524, 0.0), (1525, 0.0), (1526, 0.0), (1541, 0.0), (1545, 0.0), (1546, 0.0), (1548, 0.0), (1549, 0.0), (1551, 0.0), (1554, 0.0), (1556, 0.0), (1559, 0.0), (1560, 0.0), (1564, 0.0), (1566, 0.0), (1568, 0.0), (1569, 0.0), (1575, 0.0), (1576, 0.0), (1577, 0.0), (1583, 0.0), (1584, 0.0), (1586, 0.0), (1587, 0.0), (1589, 0.0), (1590, 0.0), (1596, 0.0), (1600, 0.0), (1601, 0.0), (1602, 0.0), (1603, 0.0), (1604, 0.0), (1609, 0.0), (1610, 0.0), (1613, 0.0), (1615, 0.0), (1618, 0.0), (1622, 0.0), (1623, 0.0), (1631, 0.0), (1632, 0.0), (1633, 0.0), (1635, 0.0), (1636, 0.0), (1652, 0.0), (1654, 0.0), (1657, 0.0), (1659, 0.0), (1661, 0.0), (1668, 0.0), (1673, 0.0), (1676, 0.0), (1679, 0.0), (1684, 0.0), (1686, 0.0), (1689, 0.0), (1695, 0.0), (1697, 0.0), (1698, 0.0), (1699, 0.0), (1702, 0.0), (1704, 0.0), (1713, 0.0), (1718, 0.0), (1720, 0.0), (1723, 0.0), (1724, 0.0), (1728, 0.0), (1731, 0.0), (1732, 0.0), (1737, 0.0), (1745, 0.0), (1750, 0.0), (1751, 0.0), (1752, 0.0), (1753, 0.0), (1755, 0.0), (1756, 0.0), (1757, 0.0), (1766, 0.0), (1769, 0.0), (1770, 0.0), (1772, 0.0), (1773, 0.0), (1775, 0.0), (1783, 0.0), (1784, 0.0), (1785, 0.0), (1786, 0.0), (1787, 0.0), (1788, 0.0), (1791, 0.0), (1794, 0.0), (1795, 0.0), (1800, 0.0), (1804, 0.0), (1812, 0.0), (1817, 0.0), (1818, 0.0), (1820, 0.0), (1823, 0.0), (1825, 0.0), (1829, 0.0), (1834, 0.0), (1836, 0.0), (1839, 0.0), (1840, 0.0), (1842, 0.0), (1844, 0.0), (1849, 0.0), (1859, 0.0), (1863, 0.0), (1867, 0.0), (1879, 0.0), (1881, 0.0), (1888, 0.0), (1894, 0.0), (1898, 0.0), (1899, 0.0), (1900, 0.0), (1901, 0.0), (1904, 0.0), (1906, 0.0), (1908, 0.0), (1910, 0.0), (1913, 0.0), (1915, 0.0), (1917, 0.0), (1930, 0.0), (1932, 0.0), (1938, 0.0), (1939, 0.0), (1940, 0.0), (1944, 0.0), (1948, 0.0), (1952, 0.0), (1955, 0.0), (1956, 0.0), (1957, 0.0), (1961, 0.0), (1962, 0.0), (1972, 0.0), (1974, 0.0), (1975, 0.0), (1976, 0.0), (1990, 0.0), (1994, 0.0), (1996, 0.0), (1999, 0.0), (2002, 0.0), (2003, 0.0), (2005, 0.0), (2006, 0.0), (2012, 0.0), (2014, 0.0), (2015, 0.0), (2018, 0.0), (2019, 0.0), (2021, 0.0), (2025, 0.0), (2028, 0.0), (2030, 0.0), (2032, 0.0), (2033, 0.0), (2038, 0.0), (2041, 0.0), (2042, 0.0), (2044, 0.0), (2046, 0.0), (2052, 0.0), (2054, 0.0), (2056, 0.0), (2058, 0.0), (2059, 0.0), (2063, 0.0), (2064, 0.0), (2071, 0.0), (2079, 0.0), (2081, 0.0), (2084, 0.0), (2085, 0.0), (2086, 0.0), (2090, 0.0), (2095, 0.0), (2098, 0.0), (2101, 0.0), (2106, 0.0), (2114, 0.0), (2118, 0.0), (2120, 0.0), (2124, 0.0), (2130, 0.0), (2135, 0.0), (2136, 0.0), (2140, 0.0), (2147, 0.0), (2150, 0.0), (2152, 0.0), (2153, 0.0), (2156, 0.0), (2161, 0.0), (2164, 0.0), (2165, 0.0), (2167, 0.0), (2171, 0.0), (2172, 0.0), (2179, 0.0), (2180, 0.0), (2181, 0.0), (2183, 0.0), (2186, 0.0), (2194, 0.0), (2197, 0.0), (2200, 0.0), (2203, 0.0), (2204, 0.0), (2207, 0.0), (2208, 0.0), (2215, 0.0), (2218, 0.0), (2220, 0.0), (2222, 0.0), (2233, 0.0), (2238, 0.0), (2241, 0.0), (2244, 0.0), (2253, 0.0), (2256, 0.0), (2258, 0.0), (2261, 0.0), (2262, 0.0), (2263, 0.0), (2267, 0.0), (2272, 0.0), (2273, 0.0), (2274, 0.0), (2278, 0.0), (2281, 0.0), (2282, 0.0), (2291, 0.0), (2296, 0.0), (2300, 0.0), (2305, 0.0), (2307, 0.0), (2311, 0.0), (2314, 0.0), (2315, 0.0), (2322, 0.0), (2325, 0.0), (2326, 0.0), (2328, 0.0), (2329, 0.0), (2331, 0.0), (2332, 0.0), (2333, 0.0), (2335, 0.0), (2339, 0.0), (2341, 0.0), (2343, 0.0), (2345, 0.0), (2353, 0.0), (2357, 0.0), (2358, 0.0), (2360, 0.0), (2364, 0.0), (2365, 0.0), (2366, 0.0), (2368, 0.0), (2369, 0.0), (2373, 0.0), (2376, 0.0), (2380, 0.0), (2384, 0.0), (2395, 0.0), (2408, 0.0), (2409, 0.0), (2413, 0.0), (2414, 0.0), (2420, 0.0), (2421, 0.0), (2426, 0.0), (2431, 0.0), (2435, 0.0), (2449, 0.0), (2451, 0.0), (2452, 0.0), (2455, 0.0), (2456, 0.0), (2458, 0.0), (2462, 0.0), (2465, 0.0), (2470, 0.0), (2476, 0.0), (2479, 0.0), (2483, 0.0), (2485, 0.0), (2491, 0.0), (2497, 0.0), (2498, 0.0), (2499, 0.0), (2500, 0.0), (2501, 0.0), (2503, 0.0), (2504, 0.0), (2506, 0.0), (2508, 0.0), (2510, 0.0), (2511, 0.0), (2514, 0.0), (2516, 0.0), (2518, 0.0), (2521, 0.0), (2532, 0.0), (2536, 0.0), (2539, 0.0), (2541, 0.0), (2543, 0.0), (2547, 0.0), (2549, 0.0), (2562, 0.0), (2564, 0.0), (2574, 0.0), (2576, 0.0), (2577, 0.0), (2578, 0.0), (2583, 0.0), (2586, 0.0), (2596, 0.0), (2599, 0.0), (2605, 0.0), (2618, 0.0), (2620, 0.0), (2622, 0.0), (2631, 0.0), (2639, 0.0), (2641, 0.0), (2644, 0.0), (2648, 0.0), (2656, 0.0), (2657, 0.0), (2658, 0.0), (2659, 0.0), (2660, 0.0), (2662, 0.0), (2665, 0.0), (2667, 0.0), (2669, 0.0), (2670, 0.0), (2672, 0.0), (2675, 0.0), (2676, 0.0), (2677, 0.0), (2680, 0.0), (2681, 0.0), (2682, 0.0), (2683, 0.0), (2686, 0.0), (2690, 0.0), (2693, 0.0), (2699, 0.0), (2700, 0.0), (2701, 0.0), (2703, 0.0), (2704, 0.0), (2708, 0.0), (2711, 0.0), (2713, 0.0), (2715, 0.0), (2717, 0.0), (2718, 0.0), (2719, 0.0), (2726, 0.0), (2730, 0.0), (2733, 0.0), (2736, 0.0), (2749, 0.0), (2750, 0.0), (2754, 0.0), (2759, 0.0), (2770, 0.0), (2773, 0.0), (2785, 0.0), (2787, 0.0), (2793, 0.0), (2794, 0.0), (2799, 0.0), (2801, 0.0), (2804, 0.0), (2805, 0.0), (2806, 0.0), (2807, 0.0), (2810, 0.0), (2811, 0.0), (2814, 0.0), (2816, 0.0), (2817, 0.0), (2818, 0.0), (2819, 0.0), (2822, 0.0), (2823, 0.0), (2824, 0.0), (2827, 0.0), (2828, 0.0), (2829, 0.0), (2836, 0.0), (2837, 0.0), (2839, 0.0), (2843, 0.0), (2851, 0.0), (2855, 0.0), (2856, 0.0), (2860, 0.0), (2865, 0.0), (2866, 0.0), (2875, 0.0), (2880, 0.0), (2885, 0.0), (2896, 0.0), (2905, 0.0), (2921, 0.0), (2922, 0.0), (2927, 0.0), (2929, 0.0), (2935, 0.0), (2938, 0.0), (2941, 0.0), (2947, 0.0), (2950, 0.0), (2951, 0.0), (2952, 0.0), (2956, 0.0), (2960, 0.0), (2967, 0.0), (2973, 0.0), (2979, 0.0), (2983, 0.0), (2984, 0.0), (2992, 0.0), (3001, 0.0), (3005, 0.0), (3009, 0.0), (3011, 0.0), (3017, 0.0), (3022, 0.0), (3023, 0.0), (3025, 0.0), (3029, 0.0), (3033, 0.0), (3038, 0.0), (3041, 0.0), (3054, 0.0), (3058, 0.0), (3059, 0.0), (3060, 0.0), (3061, 0.0), (3063, 0.0), (3073, 0.0), (3077, 0.0), (3079, 0.0), (3080, 0.0), (3087, 0.0), (3088, 0.0), (3090, 0.0), (3092, 0.0), (3100, 0.0), (3102, 0.0), (3103, 0.0), (3105, 0.0), (3106, 0.0), (3107, 0.0), (3124, 0.0), (3126, 0.0), (3130, 0.0), (3131, 0.0), (3138, 0.0), (3141, 0.0), (3144, 0.0), (3145, 0.0), (3156, 0.0), (3158, 0.0), (3160, 0.0), (3161, 0.0), (3162, 0.0), (3164, 0.0), (3172, 0.0), (3175, 0.0), (3176, 0.0), (3179, 0.0), (3180, 0.0), (3181, 0.0), (3185, 0.0), (3191, 0.0), (3197, 0.0), (3201, 0.0), (3203, 0.0), (3204, 0.0), (3205, 0.0), (3208, 0.0), (3209, 0.0), (3213, 0.0), (3215, 0.0), (3217, 0.0), (3221, 0.0), (3222, 0.0), (3223, 0.0), (3231, 0.0), (3244, 0.0), (3250, 0.0), (3253, 0.0), (3255, 0.0), (3256, 0.0), (3263, 0.0), (3266, 0.0), (3270, 0.0), (3277, 0.0), (3279, 0.0), (3281, 0.0), (3287, 0.0), (3294, 0.0), (3295, 0.0), (3305, 0.0), (3309, 0.0), (3310, 0.0), (3319, 0.0), (3320, 0.0), (3321, 0.0), (3323, 0.0), (3324, 0.0), (3332, 0.0), (3333, 0.0), (3339, 0.0), (3340, 0.0), (3343, 0.0), (3345, 0.0), (3356, 0.0), (3361, 0.0), (3366, 0.0), (3367, 0.0), (3368, 0.0), (3371, 0.0), (3378, 0.0), (3383, 0.0), (3394, 0.0), (3395, 0.0), (3397, 0.0), (3398, 0.0), (3400, 0.0), (3401, 0.0), (3404, 0.0), (3405, 0.0), (3411, 0.0), (3415, 0.0), (3420, 0.0), (3424, 0.0), (3427, 0.0), (3432, 0.0), (3438, 0.0), (3439, 0.0), (3440, 0.0), (3444, 0.0), (3451, 0.0), (3454, 0.0), (3456, 0.0), (3459, 0.0), (3461, 0.0), (3462, 0.0), (3468, 0.0), (3470, 0.0), (3472, 0.0), (3476, 0.0), (3480, 0.0), (3481, 0.0), (3482, 0.0), (3484, 0.0), (3486, 0.0), (3488, 0.0), (3489, 0.0), (3490, 0.0), (3494, 0.0), (3495, 0.0), (3502, 0.0), (3509, 0.0), (3510, 0.0), (3515, 0.0), (3518, 0.0), (3529, 0.0), (3530, 0.0), (3532, 0.0), (3533, 0.0), (3539, 0.0), (3543, 0.0), (3545, 0.0), (3547, 0.0), (3549, 0.0), (3550, 0.0), (3555, 0.0), (3559, 0.0), (3562, 0.0), (3566, 0.0), (3567, 0.0), (3572, 0.0), (3573, 0.0), (3574, 0.0), (3576, 0.0), (3578, 0.0), (3580, 0.0), (3581, 0.0), (3583, 0.0), (3585, 0.0), (3589, 0.0), (3594, 0.0), (3595, 0.0), (3598, 0.0), (3600, 0.0), (3602, 0.0), (3603, 0.0), (3604, 0.0), (3605, 0.0), (3607, 0.0), (3622, 0.0), (3625, 0.0), (3628, 0.0), (3630, 0.0), (3631, 0.0), (3632, 0.0), (3649, 0.0), (3663, 0.0), (3664, 0.0), (3671, 0.0), (3676, 0.0), (3679, 0.0), (3682, 0.0), (3683, 0.0), (3685, 0.0), (3686, 0.0), (3688, 0.0), (3693, 0.0), (3698, 0.0), (3700, 0.0), (3702, 0.0), (3709, 0.0), (3710, 0.0), (3715, 0.0), (3716, 0.0), (3717, 0.0), (3718, 0.0), (3720, 0.0), (3723, 0.0), (3726, 0.0), (3732, 0.0), (3735, 0.0), (3736, 0.0), (3743, 0.0), (3744, 0.0), (3748, 0.0), (3758, 0.0), (3760, 0.0), (3761, 0.0), (3764, 0.0), (3769, 0.0), (3773, 0.0), (3776, 0.0), (3782, 0.0), (3785, 0.0), (3787, 0.0), (3788, 0.0), (3789, 0.0), (3791, 0.0), (3793, 0.0), (3796, 0.0), (3798, 0.0), (3800, 0.0), (3802, 0.0), (3803, 0.0), (3805, 0.0), (3806, 0.0), (3810, 0.0), (3814, 0.0), (3815, 0.0), (3816, 0.0), (3817, 0.0), (3818, 0.0), (3820, 0.0), (3823, 0.0), (3825, 0.0), (3830, 0.0), (3833, 0.0), (3834, 0.0), (3836, 0.0), (3837, 0.0), (3838, 0.0), (3843, 0.0), (3847, 0.0), (3851, 0.0), (3859, 0.0), (3865, 0.0), (3869, 0.0), (3872, 0.0), (3879, 0.0), (3881, 0.0), (3885, 0.0), (3887, 0.0), (3891, 0.0), (3907, 0.0), (3908, 0.0), (3914, 0.0), (3918, 0.0), (3921, 0.0), (3923, 0.0), (3930, 0.0), (3931, 0.0), (3933, 0.0), (3934, 0.0), (3936, 0.0), (3937, 0.0), (3940, 0.0), (3942, 0.0), (3944, 0.0), (3948, 0.0), (3955, 0.0), (3958, 0.0), (3964, 0.0), (3965, 0.0), (3966, 0.0), (3969, 0.0), (3971, 0.0), (3976, 0.0), (3981, 0.0), (3985, 0.0), (3988, 0.0), (3989, 0.0), (3991, 0.0), (3994, 0.0), (3995, 0.0), (3996, 0.0), (3997, 0.0), (3998, 0.0), (4006, 0.0), (4008, 0.0), (4009, 0.0), (4012, 0.0), (4021, 0.0), (4026, 0.0), (4027, 0.0), (4029, 0.0), (4035, 0.0), (4037, 0.0), (4039, 0.0), (4040, 0.0), (4043, 0.0), (4047, 0.0), (4050, 0.0), (4055, 0.0), (4057, 0.0), (4063, 0.0), (4064, 0.0), (4065, 0.0), (4067, 0.0), (4072, 0.0), (4073, 0.0), (4076, 0.0), (4077, 0.0), (4078, 0.0), (4086, 0.0), (4090, 0.0), (4091, 0.0), (4100, 0.0), (4103, 0.0), (4108, 0.0), (4109, 0.0), (4115, 0.0), (4120, 0.0), (4125, 0.0), (4127, 0.0), (4128, 0.0), (4131, 0.0), (4134, 0.0), (4144, 0.0), (4150, 0.0), (4157, 0.0), (4162, 0.0), (4166, 0.0), (4167, 0.0), (4168, 0.0), (4170, 0.0), (4177, 0.0), (4179, 0.0), (4180, 0.0), (4181, 0.0), (4190, 0.0), (4193, 0.0), (4195, 0.0), (4196, 0.0), (4198, 0.0), (4201, 0.0), (4204, 0.0), (4208, 0.0), (4211, 0.0), (4214, 0.0), (4215, 0.0), (4217, 0.0), (4218, 0.0), (4219, 0.0), (4223, 0.0), (4224, 0.0), (4226, 0.0), (4229, 0.0), (4234, 0.0), (4236, 0.0), (4237, 0.0), (4238, 0.0), (4239, 0.0), (4240, 0.0), (4241, 0.0), (4248, 0.0), (4250, 0.0), (4251, 0.0), (4258, 0.0), (4260, 0.0), (4270, 0.0), (4271, 0.0), (4275, 0.0), (4276, 0.0), (4278, 0.0), (4279, 0.0), (4285, 0.0), (4290, 0.0), (4292, 0.0), (4297, 0.0), (4302, 0.0), (4303, 0.0), (4305, 0.0), (4307, 0.0), (4310, 0.0), (4312, 0.0), (4315, 0.0), (4317, 0.0), (4319, 0.0), (4322, 0.0), (4323, 0.0), (4328, 0.0), (4331, 0.0), (4332, 0.0), (4337, 0.0), (4341, 0.0), (4346, 0.0), (4347, 0.0), (4351, 0.0), (4352, 0.0), (4360, 0.0), (4364, 0.0), (4365, 0.0), (4367, 0.0), (4372, 0.0), (4373, 0.0), (4376, 0.0), (4377, 0.0), (4384, 0.0), (4385, 0.0), (4388, 0.0), (4393, 0.0), (4404, 0.0), (4405, 0.0), (4408, 0.0), (4413, 0.0), (4414, 0.0), (4415, 0.0), (4417, 0.0), (4424, 0.0), (4425, 0.0), (4426, 0.0), (4434, 0.0), (4437, 0.0), (4438, 0.0), (4439, 0.0), (4441, 0.0), (4449, 0.0), (4455, 0.0), (4456, 0.0), (4457, 0.0), (4463, 0.0), (4478, 0.0), (4480, 0.0), (4483, 0.0), (4485, 0.0), (4491, 0.0), (4492, 0.0), (4496, 0.0), (4498, 0.0), (4499, 0.0), (4500, 0.0), (4506, 0.0), (4509, 0.0), (4513, 0.0), (4514, 0.0), (4515, 0.0), (4519, 0.0), (4524, 0.0), (4526, 0.0), (4527, 0.0), (4532, 0.0), (4537, 0.0), (4538, 0.0), (4541, 0.0), (4547, 0.0), (4548, 0.0), (4549, 0.0), (4552, 0.0), (4556, 0.0), (4559, 0.0), (4560, 0.0), (4561, 0.0), (4562, 0.0), (4565, 0.0), (4569, 0.0), (4570, 0.0), (4577, 0.0), (4578, 0.0), (4583, 0.0), (4585, 0.0), (4592, 0.0), (4595, 0.0), (4596, 0.0), (4597, 0.0), (4600, 0.0), (4622, 0.0), (4631, 0.0), (4635, 0.0), (4642, 0.0), (4644, 0.0), (4645, 0.0), (4648, 0.0), (4651, 0.0), (4653, 0.0), (4654, 0.0), (4655, 0.0), (4662, 0.0), (4664, 0.0), (4665, 0.0), (4666, 0.0), (4667, 0.0), (4671, 0.0), (4672, 0.0), (4675, 0.0), (4681, 0.0), (4682, 0.0), (4683, 0.0), (4690, 0.0), (4691, 0.0), (4697, 0.0), (4698, 0.0), (4700, 0.0), (4711, 0.0), (4714, 0.0), (4716, 0.0), (4720, 0.0), (4725, 0.0), (4726, 0.0), (4728, 0.0), (4730, 0.0), (4737, 0.0), (4738, 0.0), (4740, 0.0), (4741, 0.0), (4742, 0.0), (4745, 0.0), (4746, 0.0), (4750, 0.0), (4751, 0.0), (4754, 0.0), (4755, 0.0), (4758, 0.0), (4759, 0.0)]\n"
          ]
        }
      ]
    },
    {
      "cell_type": "code",
      "source": [
        "print(\"Top 30 movie suggested for you:\")\n",
        "i=1\n",
        "for movie in Sorted:\n",
        "  index=movie[0]\n",
        "  title_from_index=df[df.index==index]['Movie_Title'].values[0]\n",
        "  if(i<31):\n",
        "    print(i,'.',title_from_index)\n",
        "    i+=1"
      ],
      "metadata": {
        "id": "PJsMh-rWethF",
        "colab": {
          "base_uri": "https://localhost:8080/"
        },
        "outputId": "94538cff-c3f4-4a19-a20c-d6fc4bf0399a"
      },
      "execution_count": 78,
      "outputs": [
        {
          "output_type": "stream",
          "name": "stdout",
          "text": [
            "Top 30 movie suggested for you:\n",
            "1 . To Kill a Mockingbird\n",
            "2 . Running with Scissors\n",
            "3 . My Summer of Love\n",
            "4 . Magnolia\n",
            "5 . The Giver\n",
            "6 . Step Brothers\n",
            "7 . Howards End\n",
            "8 . Superbad\n",
            "9 . Take Me Home Tonight\n",
            "10 . Charlie St. Cloud\n",
            "11 . Shame\n",
            "12 . Punch-Drunk Love\n",
            "13 . The History Boys\n",
            "14 . Our Idiot Brother\n",
            "15 . Moby Dick\n",
            "16 . Finding Neverland\n",
            "17 . Shaft\n",
            "18 . The Green Mile\n",
            "19 . Straight A's\n",
            "20 . Whale Rider\n",
            "21 . Atonement\n",
            "22 . Anne of Green Gables\n",
            "23 . The Man Who Knew Too Little\n",
            "24 . Hollywood Shuffle\n",
            "25 . Finding Forrester\n",
            "26 . The Conjuring\n",
            "27 . Ramona and Beezus\n",
            "28 . The Valley of Decision\n",
            "29 . Stuart Little\n",
            "30 . The Martian\n"
          ]
        }
      ]
    }
  ]
}